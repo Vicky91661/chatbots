{
 "cells": [
  {
   "cell_type": "markdown",
   "metadata": {},
   "source": [
    "### Building A Chatbot\n",
    "In this project, We'll go over an example of how to design and implement an LLM-powered chatbot. This chatbot will be able to have a conversation and remember previous interactions.\n",
    "\n",
    "\n",
    "Note that this chatbot that we build will only use the language model to have a conversation. There are several other related concepts that you may be looking for :\n",
    "- Conversational RAG : Enable a chatbot experience over an external source of data\n",
    "- Agents: Build a chatbot that can take acions\n",
    "\n",
    "This Project will cover the basic which will be helpful for those two more advance topics."
   ]
  },
  {
   "cell_type": "code",
   "execution_count": 10,
   "metadata": {},
   "outputs": [],
   "source": [
    "import os\n",
    "from dotenv import load_dotenv\n",
    "load_dotenv()\n",
    "\n",
    "groq_api_key = os.getenv(\"GROQ_KEY\")\n"
   ]
  },
  {
   "cell_type": "code",
   "execution_count": 4,
   "metadata": {},
   "outputs": [
    {
     "data": {
      "text/plain": [
       "ChatGroq(client=<groq.resources.chat.completions.Completions object at 0x00000139E64049E0>, async_client=<groq.resources.chat.completions.AsyncCompletions object at 0x00000139E6406FF0>, model_name='Gemma2-9b-It', model_kwargs={}, groq_api_key=SecretStr('**********'))"
      ]
     },
     "execution_count": 4,
     "metadata": {},
     "output_type": "execute_result"
    }
   ],
   "source": [
    "from langchain_groq import ChatGroq\n",
    "model = ChatGroq(model=\"Gemma2-9b-It\",groq_api_key=groq_api_key)\n",
    "model"
   ]
  },
  {
   "cell_type": "code",
   "execution_count": 7,
   "metadata": {},
   "outputs": [
    {
     "data": {
      "text/plain": [
       "AIMessage(content=\"Hello Vicky! It's nice to meet you. \\n\\nThat's quite a title!  As a Chief AI Engineer, I imagine you're involved in some fascinating work.  What are some of the most exciting projects you're currently working on?  \\n\\nI'm always eager to learn more about the applications of AI. \\n\\n\", additional_kwargs={}, response_metadata={'token_usage': {'completion_tokens': 75, 'prompt_tokens': 23, 'total_tokens': 98, 'completion_time': 0.136363636, 'prompt_time': 0.000212419, 'queue_time': 0.015262952, 'total_time': 0.136576055}, 'model_name': 'Gemma2-9b-It', 'system_fingerprint': 'fp_10c08bf97d', 'finish_reason': 'stop', 'logprobs': None}, id='run-02cc079b-296b-411c-8d38-81a865a02fd1-0', usage_metadata={'input_tokens': 23, 'output_tokens': 75, 'total_tokens': 98})"
      ]
     },
     "execution_count": 7,
     "metadata": {},
     "output_type": "execute_result"
    }
   ],
   "source": [
    "from langchain_core.messages import HumanMessage\n",
    "model.invoke([HumanMessage(content=\"Hi, My name is Vicky and I am a Cheif AI Engineer\")])"
   ]
  },
  {
   "cell_type": "code",
   "execution_count": 8,
   "metadata": {},
   "outputs": [
    {
     "data": {
      "text/plain": [
       "AIMessage(content=\"According to our conversation, your name is Vicky and you are a Chief AI Engineer.  \\n\\nIs there anything else you'd like to know or discuss?  😊 \\n\", additional_kwargs={}, response_metadata={'token_usage': {'completion_tokens': 38, 'prompt_tokens': 115, 'total_tokens': 153, 'completion_time': 0.069090909, 'prompt_time': 0.00362316, 'queue_time': 0.011676189, 'total_time': 0.072714069}, 'model_name': 'Gemma2-9b-It', 'system_fingerprint': 'fp_10c08bf97d', 'finish_reason': 'stop', 'logprobs': None}, id='run-a93643aa-57a2-4f98-ab65-c564cdcce0be-0', usage_metadata={'input_tokens': 115, 'output_tokens': 38, 'total_tokens': 153})"
      ]
     },
     "execution_count": 8,
     "metadata": {},
     "output_type": "execute_result"
    }
   ],
   "source": [
    "from langchain_core.messages import AIMessage\n",
    "model.invoke([\n",
    "    HumanMessage(content=\"Hi, My name is Vicky and I am a Cheif AI Engineer\"),\n",
    "    AIMessage(content=\"Hello Vicky! It's nice to meet you. \\n\\nThat's quite a title!  As a Chief AI Engineer, I imagine you're involved in some fascinating work. What are some of the most exciting projects you're currently working on?  \\n\\nI'm always eager to learn more about the applications of AI. \\n\\n\"),\n",
    "    HumanMessage(content=\"Hey What is my name and what do I do?\")\n",
    "])\n"
   ]
  },
  {
   "cell_type": "code",
   "execution_count": 9,
   "metadata": {},
   "outputs": [
    {
     "name": "stdout",
     "output_type": "stream",
     "text": [
      "Collecting langchain_community\n",
      "  Downloading langchain_community-0.3.1-py3-none-any.whl.metadata (2.8 kB)\n",
      "Requirement already satisfied: PyYAML>=5.3 in c:\\users\\kumar\\anaconda3\\envs\\ann_project\\lib\\site-packages (from langchain_community) (6.0.2)\n",
      "Collecting SQLAlchemy<3,>=1.4 (from langchain_community)\n",
      "  Downloading SQLAlchemy-2.0.35-cp312-cp312-win_amd64.whl.metadata (9.9 kB)\n",
      "Collecting aiohttp<4.0.0,>=3.8.3 (from langchain_community)\n",
      "  Downloading aiohttp-3.10.8-cp312-cp312-win_amd64.whl.metadata (7.8 kB)\n",
      "Collecting dataclasses-json<0.7,>=0.5.7 (from langchain_community)\n",
      "  Downloading dataclasses_json-0.6.7-py3-none-any.whl.metadata (25 kB)\n",
      "Collecting langchain<0.4.0,>=0.3.1 (from langchain_community)\n",
      "  Downloading langchain-0.3.2-py3-none-any.whl.metadata (7.1 kB)\n",
      "Requirement already satisfied: langchain-core<0.4.0,>=0.3.6 in c:\\users\\kumar\\anaconda3\\envs\\ann_project\\lib\\site-packages (from langchain_community) (0.3.8)\n",
      "Requirement already satisfied: langsmith<0.2.0,>=0.1.125 in c:\\users\\kumar\\anaconda3\\envs\\ann_project\\lib\\site-packages (from langchain_community) (0.1.130)\n",
      "Requirement already satisfied: numpy<2.0.0,>=1.26.0 in c:\\users\\kumar\\anaconda3\\envs\\ann_project\\lib\\site-packages (from langchain_community) (1.26.4)\n",
      "Collecting pydantic-settings<3.0.0,>=2.4.0 (from langchain_community)\n",
      "  Downloading pydantic_settings-2.5.2-py3-none-any.whl.metadata (3.5 kB)\n",
      "Requirement already satisfied: requests<3,>=2 in c:\\users\\kumar\\anaconda3\\envs\\ann_project\\lib\\site-packages (from langchain_community) (2.32.3)\n",
      "Requirement already satisfied: tenacity!=8.4.0,<9.0.0,>=8.1.0 in c:\\users\\kumar\\anaconda3\\envs\\ann_project\\lib\\site-packages (from langchain_community) (8.5.0)\n",
      "Collecting aiohappyeyeballs>=2.3.0 (from aiohttp<4.0.0,>=3.8.3->langchain_community)\n",
      "  Downloading aiohappyeyeballs-2.4.3-py3-none-any.whl.metadata (6.1 kB)\n",
      "Collecting aiosignal>=1.1.2 (from aiohttp<4.0.0,>=3.8.3->langchain_community)\n",
      "  Downloading aiosignal-1.3.1-py3-none-any.whl.metadata (4.0 kB)\n",
      "Collecting attrs>=17.3.0 (from aiohttp<4.0.0,>=3.8.3->langchain_community)\n",
      "  Downloading attrs-24.2.0-py3-none-any.whl.metadata (11 kB)\n",
      "Collecting frozenlist>=1.1.1 (from aiohttp<4.0.0,>=3.8.3->langchain_community)\n",
      "  Downloading frozenlist-1.4.1-cp312-cp312-win_amd64.whl.metadata (12 kB)\n",
      "Collecting multidict<7.0,>=4.5 (from aiohttp<4.0.0,>=3.8.3->langchain_community)\n",
      "  Downloading multidict-6.1.0-cp312-cp312-win_amd64.whl.metadata (5.1 kB)\n",
      "Collecting yarl<2.0,>=1.12.0 (from aiohttp<4.0.0,>=3.8.3->langchain_community)\n",
      "  Downloading yarl-1.13.1-cp312-cp312-win_amd64.whl.metadata (52 kB)\n",
      "Collecting marshmallow<4.0.0,>=3.18.0 (from dataclasses-json<0.7,>=0.5.7->langchain_community)\n",
      "  Downloading marshmallow-3.22.0-py3-none-any.whl.metadata (7.2 kB)\n",
      "Collecting typing-inspect<1,>=0.4.0 (from dataclasses-json<0.7,>=0.5.7->langchain_community)\n",
      "  Downloading typing_inspect-0.9.0-py3-none-any.whl.metadata (1.5 kB)\n",
      "Collecting langchain-text-splitters<0.4.0,>=0.3.0 (from langchain<0.4.0,>=0.3.1->langchain_community)\n",
      "  Downloading langchain_text_splitters-0.3.0-py3-none-any.whl.metadata (2.3 kB)\n",
      "Requirement already satisfied: pydantic<3.0.0,>=2.7.4 in c:\\users\\kumar\\anaconda3\\envs\\ann_project\\lib\\site-packages (from langchain<0.4.0,>=0.3.1->langchain_community) (2.9.2)\n",
      "Requirement already satisfied: jsonpatch<2.0,>=1.33 in c:\\users\\kumar\\anaconda3\\envs\\ann_project\\lib\\site-packages (from langchain-core<0.4.0,>=0.3.6->langchain_community) (1.33)\n",
      "Requirement already satisfied: packaging<25,>=23.2 in c:\\users\\kumar\\anaconda3\\envs\\ann_project\\lib\\site-packages (from langchain-core<0.4.0,>=0.3.6->langchain_community) (24.1)\n",
      "Requirement already satisfied: typing-extensions>=4.7 in c:\\users\\kumar\\anaconda3\\envs\\ann_project\\lib\\site-packages (from langchain-core<0.4.0,>=0.3.6->langchain_community) (4.12.2)\n",
      "Requirement already satisfied: httpx<1,>=0.23.0 in c:\\users\\kumar\\anaconda3\\envs\\ann_project\\lib\\site-packages (from langsmith<0.2.0,>=0.1.125->langchain_community) (0.27.2)\n",
      "Requirement already satisfied: orjson<4.0.0,>=3.9.14 in c:\\users\\kumar\\anaconda3\\envs\\ann_project\\lib\\site-packages (from langsmith<0.2.0,>=0.1.125->langchain_community) (3.10.7)\n",
      "Requirement already satisfied: requests-toolbelt<2.0.0,>=1.0.0 in c:\\users\\kumar\\anaconda3\\envs\\ann_project\\lib\\site-packages (from langsmith<0.2.0,>=0.1.125->langchain_community) (1.0.0)\n",
      "Requirement already satisfied: python-dotenv>=0.21.0 in c:\\users\\kumar\\anaconda3\\envs\\ann_project\\lib\\site-packages (from pydantic-settings<3.0.0,>=2.4.0->langchain_community) (1.0.1)\n",
      "Requirement already satisfied: charset-normalizer<4,>=2 in c:\\users\\kumar\\anaconda3\\envs\\ann_project\\lib\\site-packages (from requests<3,>=2->langchain_community) (3.3.2)\n",
      "Requirement already satisfied: idna<4,>=2.5 in c:\\users\\kumar\\anaconda3\\envs\\ann_project\\lib\\site-packages (from requests<3,>=2->langchain_community) (3.10)\n",
      "Requirement already satisfied: urllib3<3,>=1.21.1 in c:\\users\\kumar\\anaconda3\\envs\\ann_project\\lib\\site-packages (from requests<3,>=2->langchain_community) (2.2.3)\n",
      "Requirement already satisfied: certifi>=2017.4.17 in c:\\users\\kumar\\anaconda3\\envs\\ann_project\\lib\\site-packages (from requests<3,>=2->langchain_community) (2024.8.30)\n",
      "Collecting greenlet!=0.4.17 (from SQLAlchemy<3,>=1.4->langchain_community)\n",
      "  Downloading greenlet-3.1.1-cp312-cp312-win_amd64.whl.metadata (3.9 kB)\n",
      "Requirement already satisfied: anyio in c:\\users\\kumar\\anaconda3\\envs\\ann_project\\lib\\site-packages (from httpx<1,>=0.23.0->langsmith<0.2.0,>=0.1.125->langchain_community) (4.6.0)\n",
      "Requirement already satisfied: httpcore==1.* in c:\\users\\kumar\\anaconda3\\envs\\ann_project\\lib\\site-packages (from httpx<1,>=0.23.0->langsmith<0.2.0,>=0.1.125->langchain_community) (1.0.6)\n",
      "Requirement already satisfied: sniffio in c:\\users\\kumar\\anaconda3\\envs\\ann_project\\lib\\site-packages (from httpx<1,>=0.23.0->langsmith<0.2.0,>=0.1.125->langchain_community) (1.3.1)\n",
      "Requirement already satisfied: h11<0.15,>=0.13 in c:\\users\\kumar\\anaconda3\\envs\\ann_project\\lib\\site-packages (from httpcore==1.*->httpx<1,>=0.23.0->langsmith<0.2.0,>=0.1.125->langchain_community) (0.14.0)\n",
      "Requirement already satisfied: jsonpointer>=1.9 in c:\\users\\kumar\\anaconda3\\envs\\ann_project\\lib\\site-packages (from jsonpatch<2.0,>=1.33->langchain-core<0.4.0,>=0.3.6->langchain_community) (3.0.0)\n",
      "Requirement already satisfied: annotated-types>=0.6.0 in c:\\users\\kumar\\anaconda3\\envs\\ann_project\\lib\\site-packages (from pydantic<3.0.0,>=2.7.4->langchain<0.4.0,>=0.3.1->langchain_community) (0.7.0)\n",
      "Requirement already satisfied: pydantic-core==2.23.4 in c:\\users\\kumar\\anaconda3\\envs\\ann_project\\lib\\site-packages (from pydantic<3.0.0,>=2.7.4->langchain<0.4.0,>=0.3.1->langchain_community) (2.23.4)\n",
      "Collecting mypy-extensions>=0.3.0 (from typing-inspect<1,>=0.4.0->dataclasses-json<0.7,>=0.5.7->langchain_community)\n",
      "  Downloading mypy_extensions-1.0.0-py3-none-any.whl.metadata (1.1 kB)\n",
      "Downloading langchain_community-0.3.1-py3-none-any.whl (2.4 MB)\n",
      "   ---------------------------------------- 0.0/2.4 MB ? eta -:--:--\n",
      "   ---- ----------------------------------- 0.3/2.4 MB ? eta -:--:--\n",
      "   ------------- -------------------------- 0.8/2.4 MB 2.2 MB/s eta 0:00:01\n",
      "   ----------------- ---------------------- 1.0/2.4 MB 1.8 MB/s eta 0:00:01\n",
      "   -------------------------- ------------- 1.6/2.4 MB 1.8 MB/s eta 0:00:01\n",
      "   ----------------------------------- ---- 2.1/2.4 MB 1.8 MB/s eta 0:00:01\n",
      "   ---------------------------------------- 2.4/2.4 MB 1.9 MB/s eta 0:00:00\n",
      "Downloading aiohttp-3.10.8-cp312-cp312-win_amd64.whl (379 kB)\n",
      "Downloading dataclasses_json-0.6.7-py3-none-any.whl (28 kB)\n",
      "Downloading langchain-0.3.2-py3-none-any.whl (1.0 MB)\n",
      "   ---------------------------------------- 0.0/1.0 MB ? eta -:--:--\n",
      "   ------------------------------- -------- 0.8/1.0 MB 3.4 MB/s eta 0:00:01\n",
      "   ---------------------------------------- 1.0/1.0 MB 3.2 MB/s eta 0:00:00\n",
      "Downloading pydantic_settings-2.5.2-py3-none-any.whl (26 kB)\n",
      "Downloading SQLAlchemy-2.0.35-cp312-cp312-win_amd64.whl (2.1 MB)\n",
      "   ---------------------------------------- 0.0/2.1 MB ? eta -:--:--\n",
      "   --------------- ------------------------ 0.8/2.1 MB 3.1 MB/s eta 0:00:01\n",
      "   ------------------------------ --------- 1.6/2.1 MB 3.5 MB/s eta 0:00:01\n",
      "   ---------------------------------------- 2.1/2.1 MB 3.5 MB/s eta 0:00:00\n",
      "Downloading aiohappyeyeballs-2.4.3-py3-none-any.whl (14 kB)\n",
      "Downloading aiosignal-1.3.1-py3-none-any.whl (7.6 kB)\n",
      "Downloading attrs-24.2.0-py3-none-any.whl (63 kB)\n",
      "Downloading frozenlist-1.4.1-cp312-cp312-win_amd64.whl (50 kB)\n",
      "Downloading greenlet-3.1.1-cp312-cp312-win_amd64.whl (299 kB)\n",
      "Downloading langchain_text_splitters-0.3.0-py3-none-any.whl (25 kB)\n",
      "Downloading marshmallow-3.22.0-py3-none-any.whl (49 kB)\n",
      "Downloading multidict-6.1.0-cp312-cp312-win_amd64.whl (28 kB)\n",
      "Downloading typing_inspect-0.9.0-py3-none-any.whl (8.8 kB)\n",
      "Downloading yarl-1.13.1-cp312-cp312-win_amd64.whl (111 kB)\n",
      "Downloading mypy_extensions-1.0.0-py3-none-any.whl (4.7 kB)\n",
      "Installing collected packages: mypy-extensions, multidict, marshmallow, greenlet, frozenlist, attrs, aiohappyeyeballs, yarl, typing-inspect, SQLAlchemy, aiosignal, pydantic-settings, dataclasses-json, aiohttp, langchain-text-splitters, langchain, langchain_community\n",
      "Successfully installed SQLAlchemy-2.0.35 aiohappyeyeballs-2.4.3 aiohttp-3.10.8 aiosignal-1.3.1 attrs-24.2.0 dataclasses-json-0.6.7 frozenlist-1.4.1 greenlet-3.1.1 langchain-0.3.2 langchain-text-splitters-0.3.0 langchain_community-0.3.1 marshmallow-3.22.0 multidict-6.1.0 mypy-extensions-1.0.0 pydantic-settings-2.5.2 typing-inspect-0.9.0 yarl-1.13.1\n"
     ]
    }
   ],
   "source": [
    "!pip install langchain_community"
   ]
  },
  {
   "cell_type": "markdown",
   "metadata": {},
   "source": [
    "### Message History\n",
    "We can use a message History class to wrap out model and make it stateful. This will keep track of inputs and outputs of the model, and store them in some datastores. Future interactions will then load those messages and pass them into the chain as part of the input. Let's see how to use this!"
   ]
  },
  {
   "cell_type": "code",
   "execution_count": 10,
   "metadata": {},
   "outputs": [],
   "source": [
    "from langchain_community.chat_message_histories import ChatMessageHistory\n",
    "from langchain_core.chat_history import BaseChatMessageHistory\n",
    "from langchain_core.runnables.history import RunnableWithMessageHistory"
   ]
  },
  {
   "cell_type": "code",
   "execution_count": 11,
   "metadata": {},
   "outputs": [],
   "source": [
    "store={}\n",
    "\n",
    "def get_seesion_history(session_id:str)->BaseChatMessageHistory:\n",
    "    if session_id not in store:\n",
    "        store[session_id]=ChatMessageHistory()\n",
    "    return store[session_id]\n",
    "\n",
    "with_message_history = RunnableWithMessageHistory(model,get_seesion_history)"
   ]
  },
  {
   "cell_type": "code",
   "execution_count": 12,
   "metadata": {},
   "outputs": [],
   "source": [
    "config = {\"configurable\":{\"session_id\":\"chat1\"}}\n"
   ]
  },
  {
   "cell_type": "code",
   "execution_count": 13,
   "metadata": {},
   "outputs": [],
   "source": [
    "response = with_message_history.invoke(\n",
    "    [HumanMessage(content=\"Hi, My name is vicky and I am a chief AI Engineer\")],\n",
    "    config=config\n",
    ")"
   ]
  },
  {
   "cell_type": "code",
   "execution_count": 14,
   "metadata": {},
   "outputs": [
    {
     "data": {
      "text/plain": [
       "AIMessage(content=\"Hi Vicky, it's great to meet you! That's a fantastic title.  \\n\\nWhat kind of exciting AI projects are you working on these days?  I'm always eager to learn about the innovative things people are doing with AI.\\n\", additional_kwargs={}, response_metadata={'token_usage': {'completion_tokens': 54, 'prompt_tokens': 23, 'total_tokens': 77, 'completion_time': 0.098181818, 'prompt_time': 0.000207219, 'queue_time': 0.01411014, 'total_time': 0.098389037}, 'model_name': 'Gemma2-9b-It', 'system_fingerprint': 'fp_10c08bf97d', 'finish_reason': 'stop', 'logprobs': None}, id='run-fac00f1d-9aa3-479d-819e-1e4c25b1d1ed-0', usage_metadata={'input_tokens': 23, 'output_tokens': 54, 'total_tokens': 77})"
      ]
     },
     "execution_count": 14,
     "metadata": {},
     "output_type": "execute_result"
    }
   ],
   "source": [
    "response"
   ]
  },
  {
   "cell_type": "code",
   "execution_count": 15,
   "metadata": {},
   "outputs": [],
   "source": [
    "response = with_message_history.invoke(\n",
    "    [HumanMessage(content=\"What's my my name?\")],\n",
    "    config=config\n",
    ")"
   ]
  },
  {
   "cell_type": "code",
   "execution_count": 16,
   "metadata": {},
   "outputs": [
    {
     "data": {
      "text/plain": [
       "AIMessage(content='Your name is Vicky!  I remember you told me at the beginning of our conversation. 😊 \\n\\nIs there anything else I can help you with?\\n', additional_kwargs={}, response_metadata={'token_usage': {'completion_tokens': 34, 'prompt_tokens': 92, 'total_tokens': 126, 'completion_time': 0.061818182, 'prompt_time': 0.003488628, 'queue_time': 0.010014532999999999, 'total_time': 0.06530681}, 'model_name': 'Gemma2-9b-It', 'system_fingerprint': 'fp_10c08bf97d', 'finish_reason': 'stop', 'logprobs': None}, id='run-e9958903-c69c-4693-98b0-46a38e8021e5-0', usage_metadata={'input_tokens': 92, 'output_tokens': 34, 'total_tokens': 126})"
      ]
     },
     "execution_count": 16,
     "metadata": {},
     "output_type": "execute_result"
    }
   ],
   "source": [
    "response"
   ]
  },
  {
   "cell_type": "code",
   "execution_count": 17,
   "metadata": {},
   "outputs": [
    {
     "data": {
      "text/plain": [
       "\"As a large language model, I don't have access to any personal information about you, including your name.  \\n\\nIf you'd like to tell me your name, I'd be happy to know! 😊 \\n\\n\""
      ]
     },
     "execution_count": 17,
     "metadata": {},
     "output_type": "execute_result"
    }
   ],
   "source": [
    "## Change the config --> session id\n",
    "config2 ={\"configurable\":{\"session_id\":\"chat2\"}}\n",
    "response = with_message_history.invoke(\n",
    "    [HumanMessage(content=\"What's my my name?\")],\n",
    "    config=config2\n",
    ")\n",
    "response.content"
   ]
  },
  {
   "cell_type": "markdown",
   "metadata": {},
   "source": [
    "### Prompt templates\n",
    "Prompt Templates helps to turn raw user information into a format that the LLM can work with. In this  case, the raw user input is just a message, which we are passing to the LLM. Let's now make that a bit more complicated. First, Let's add in a system message with some custom instructions(but still taking messages as input). Next, we'll add in more input besides just the messages."
   ]
  },
  {
   "cell_type": "code",
   "execution_count": 18,
   "metadata": {},
   "outputs": [],
   "source": [
    "from langchain_core.prompts import ChatPromptTemplate, MessagesPlaceholder\n",
    "prompt = ChatPromptTemplate.from_messages(\n",
    "    [\n",
    "        (\"system\",\"You are a helpful assistant. Answer all the question to the nest of your ability\"),\n",
    "        MessagesPlaceholder(variable_name=\"messages\")\n",
    "    ]\n",
    ")\n",
    "chain = prompt | model"
   ]
  },
  {
   "cell_type": "code",
   "execution_count": 20,
   "metadata": {},
   "outputs": [
    {
     "data": {
      "text/plain": [
       "AIMessage(content=\"Hello Vicky!  \\n\\nIt's nice to meet you.  \\n\\nWhat can I do for you today? 😊  \\n\\n\", additional_kwargs={}, response_metadata={'token_usage': {'completion_tokens': 29, 'prompt_tokens': 33, 'total_tokens': 62, 'completion_time': 0.052727273, 'prompt_time': 0.000356599, 'queue_time': 0.013020609999999998, 'total_time': 0.053083872}, 'model_name': 'Gemma2-9b-It', 'system_fingerprint': 'fp_10c08bf97d', 'finish_reason': 'stop', 'logprobs': None}, id='run-9db83d03-353c-48ea-86d2-d8a17db69363-0', usage_metadata={'input_tokens': 33, 'output_tokens': 29, 'total_tokens': 62})"
      ]
     },
     "execution_count": 20,
     "metadata": {},
     "output_type": "execute_result"
    }
   ],
   "source": [
    "chain.invoke({\"messages\":[HumanMessage(content=\"Hi My name is vicky\")]})"
   ]
  },
  {
   "cell_type": "code",
   "execution_count": 21,
   "metadata": {},
   "outputs": [],
   "source": [
    "with_message_history = RunnableWithMessageHistory(chain, get_seesion_history)"
   ]
  },
  {
   "cell_type": "code",
   "execution_count": 22,
   "metadata": {},
   "outputs": [],
   "source": [
    "config = {\"configurable\":{\"session_id\":\"chat3\"}}\n",
    "response = with_message_history.invoke(\n",
    "    [HumanMessage(content=\"Hi My name is vicky\")],\n",
    "    config=config\n",
    ")"
   ]
  },
  {
   "cell_type": "code",
   "execution_count": 24,
   "metadata": {},
   "outputs": [
    {
     "data": {
      "text/plain": [
       "\"Hi Vicky! It's nice to meet you.  \\n\\nWhat can I do for you today? 😊  I'm ready for any questions you have. \\n\""
      ]
     },
     "execution_count": 24,
     "metadata": {},
     "output_type": "execute_result"
    }
   ],
   "source": [
    "response.content"
   ]
  },
  {
   "cell_type": "code",
   "execution_count": 25,
   "metadata": {},
   "outputs": [],
   "source": [
    "## Add more complexity\n",
    "from langchain_core.prompts import ChatPromptTemplate, MessagesPlaceholder\n",
    "prompt = ChatPromptTemplate.from_messages(\n",
    "    [\n",
    "        (\"system\",\"You are a helpful assistant. Answer all the question to the nest of your ability in {language}\"),\n",
    "        MessagesPlaceholder(variable_name=\"messages\")\n",
    "    ]\n",
    ")\n",
    "chain = prompt | model"
   ]
  },
  {
   "cell_type": "code",
   "execution_count": 27,
   "metadata": {},
   "outputs": [
    {
     "data": {
      "text/plain": [
       "'नमस्ते विक्की! 😊  मुझे बहुत खुशी है कि आप मेरे साथ बात कर रहे हैं।\\n\\nक्या मैं आपकी कोई मदद कर सकता हूँ? \\n'"
      ]
     },
     "execution_count": 27,
     "metadata": {},
     "output_type": "execute_result"
    }
   ],
   "source": [
    "response = chain.invoke({\n",
    "    \"messages\":[HumanMessage(content=\"Hi My name is vicky\")],\n",
    "    \"language\":\"Hindi\"\n",
    "    })\n",
    "response.content"
   ]
  },
  {
   "cell_type": "markdown",
   "metadata": {},
   "source": [
    "Let's now wrap this more complicated chain in a messages History class. THis time, because there are multiple keys in the input, we need to specify the correct key to use to save the chat history."
   ]
  },
  {
   "cell_type": "code",
   "execution_count": 28,
   "metadata": {},
   "outputs": [],
   "source": [
    "with_message_history = RunnableWithMessageHistory(\n",
    "    chain,\n",
    "    get_seesion_history,\n",
    "    input_messages_key=\"messages\"\n",
    ")"
   ]
  },
  {
   "cell_type": "code",
   "execution_count": 29,
   "metadata": {},
   "outputs": [
    {
     "data": {
      "text/plain": [
       "'नमस्ते विक्की!  मैं आपकी मदद करने के लिए यहाँ हूँ। \\n\\nआप क्या जानना चाहते हैं? 😊 \\n'"
      ]
     },
     "execution_count": 29,
     "metadata": {},
     "output_type": "execute_result"
    }
   ],
   "source": [
    "config = {\"configurable\":{\"session_id\":\"chat4\"}}\n",
    "response = with_message_history.invoke(\n",
    "    {\"messages\":[HumanMessage(content=\"Hi My name is vicky\")],\n",
    "    \"language\":\"Hindi\"\n",
    "    },\n",
    "    config=config\n",
    ")\n",
    "response.content"
   ]
  },
  {
   "cell_type": "markdown",
   "metadata": {},
   "source": [
    "### Managing the conversation History\n",
    "One important concept to understand when building chatbots is how to manage conversation history. If left unmanaged, the list of messages will grow unbounded and potentially overflow the context window of the LLM. Therfore, it is important to add a step that limits the size of messages you are passing in.\n",
    "\n",
    "\n",
    "'trim_messages' helper to reduce how many messages we're sending to the model. The trimmer allows us to specify how many tokens we want to keep, along with other parameters like if we want to always keep the system message and whether to allow partial messages.\n",
    "\n"
   ]
  },
  {
   "cell_type": "code",
   "execution_count": 35,
   "metadata": {},
   "outputs": [],
   "source": [
    "from langchain_core.messages import SystemMessage, trim_messages\n",
    "trimmer = trim_messages(\n",
    "    max_tokens=70,\n",
    "    strategy = \"last\",\n",
    "    token_counter = model,\n",
    "    include_system = True,\n",
    "    allow_partial = False,\n",
    "    start_on = \"human\"\n",
    ")\n",
    "\n",
    "messages = [\n",
    "    SystemMessage(content=\"you're good assistant\"),\n",
    "    HumanMessage(content=\"hi! I'm bob\"),\n",
    "    AIMessage(content=\"Hi!\"),\n",
    "    HumanMessage(content=\"I like vanilla ice cream\"),\n",
    "    AIMessage(content=\"nice\"),\n",
    "    HumanMessage(content=\"what is 2+2 ?\"),\n",
    "    AIMessage(content=\"4\"),\n",
    "    HumanMessage(content=\"thanks\"),\n",
    "    AIMessage(content=\"no problem\"),\n",
    "    HumanMessage(content=\"having fun ?\"),\n",
    "    AIMessage(content=\"yes\"),\n",
    "]"
   ]
  },
  {
   "cell_type": "code",
   "execution_count": 40,
   "metadata": {},
   "outputs": [
    {
     "name": "stdout",
     "output_type": "stream",
     "text": [
      "Requirement already satisfied: transformers in c:\\users\\kumar\\anaconda3\\envs\\ann_project\\lib\\site-packages (4.45.1)\n",
      "Requirement already satisfied: filelock in c:\\users\\kumar\\anaconda3\\envs\\ann_project\\lib\\site-packages (from transformers) (3.16.1)\n",
      "Requirement already satisfied: huggingface-hub<1.0,>=0.23.2 in c:\\users\\kumar\\anaconda3\\envs\\ann_project\\lib\\site-packages (from transformers) (0.25.1)\n",
      "Requirement already satisfied: numpy>=1.17 in c:\\users\\kumar\\anaconda3\\envs\\ann_project\\lib\\site-packages (from transformers) (1.26.4)\n",
      "Requirement already satisfied: packaging>=20.0 in c:\\users\\kumar\\anaconda3\\envs\\ann_project\\lib\\site-packages (from transformers) (24.1)\n",
      "Requirement already satisfied: pyyaml>=5.1 in c:\\users\\kumar\\anaconda3\\envs\\ann_project\\lib\\site-packages (from transformers) (6.0.2)\n",
      "Requirement already satisfied: regex!=2019.12.17 in c:\\users\\kumar\\anaconda3\\envs\\ann_project\\lib\\site-packages (from transformers) (2024.9.11)\n",
      "Requirement already satisfied: requests in c:\\users\\kumar\\anaconda3\\envs\\ann_project\\lib\\site-packages (from transformers) (2.32.3)\n",
      "Requirement already satisfied: safetensors>=0.4.1 in c:\\users\\kumar\\anaconda3\\envs\\ann_project\\lib\\site-packages (from transformers) (0.4.5)\n",
      "Requirement already satisfied: tokenizers<0.21,>=0.20 in c:\\users\\kumar\\anaconda3\\envs\\ann_project\\lib\\site-packages (from transformers) (0.20.0)\n",
      "Requirement already satisfied: tqdm>=4.27 in c:\\users\\kumar\\anaconda3\\envs\\ann_project\\lib\\site-packages (from transformers) (4.66.5)\n",
      "Requirement already satisfied: fsspec>=2023.5.0 in c:\\users\\kumar\\anaconda3\\envs\\ann_project\\lib\\site-packages (from huggingface-hub<1.0,>=0.23.2->transformers) (2024.9.0)\n",
      "Requirement already satisfied: typing-extensions>=3.7.4.3 in c:\\users\\kumar\\anaconda3\\envs\\ann_project\\lib\\site-packages (from huggingface-hub<1.0,>=0.23.2->transformers) (4.12.2)\n",
      "Requirement already satisfied: colorama in c:\\users\\kumar\\anaconda3\\envs\\ann_project\\lib\\site-packages (from tqdm>=4.27->transformers) (0.4.6)\n",
      "Requirement already satisfied: charset-normalizer<4,>=2 in c:\\users\\kumar\\anaconda3\\envs\\ann_project\\lib\\site-packages (from requests->transformers) (3.3.2)\n",
      "Requirement already satisfied: idna<4,>=2.5 in c:\\users\\kumar\\anaconda3\\envs\\ann_project\\lib\\site-packages (from requests->transformers) (3.10)\n",
      "Requirement already satisfied: urllib3<3,>=1.21.1 in c:\\users\\kumar\\anaconda3\\envs\\ann_project\\lib\\site-packages (from requests->transformers) (2.2.3)\n",
      "Requirement already satisfied: certifi>=2017.4.17 in c:\\users\\kumar\\anaconda3\\envs\\ann_project\\lib\\site-packages (from requests->transformers) (2024.8.30)\n"
     ]
    }
   ],
   "source": [
    "!pip install transformers"
   ]
  },
  {
   "cell_type": "code",
   "execution_count": 39,
   "metadata": {},
   "outputs": [
    {
     "data": {
      "text/plain": [
       "[SystemMessage(content=\"you're good assistant\", additional_kwargs={}, response_metadata={}),\n",
       " HumanMessage(content=\"hi! I'm bob\", additional_kwargs={}, response_metadata={}),\n",
       " AIMessage(content='Hi!', additional_kwargs={}, response_metadata={}),\n",
       " HumanMessage(content='I like vanilla ice cream', additional_kwargs={}, response_metadata={}),\n",
       " AIMessage(content='nice', additional_kwargs={}, response_metadata={}),\n",
       " HumanMessage(content='what is 2+2?', additional_kwargs={}, response_metadata={}),\n",
       " AIMessage(content='4', additional_kwargs={}, response_metadata={}),\n",
       " HumanMessage(content='thanks', additional_kwargs={}, response_metadata={}),\n",
       " AIMessage(content='no problem', additional_kwargs={}, response_metadata={}),\n",
       " HumanMessage(content='having fun?', additional_kwargs={}, response_metadata={}),\n",
       " AIMessage(content='yes', additional_kwargs={}, response_metadata={})]"
      ]
     },
     "execution_count": 39,
     "metadata": {},
     "output_type": "execute_result"
    }
   ],
   "source": [
    "trimmer.invoke(messages)"
   ]
  },
  {
   "cell_type": "code",
   "execution_count": 43,
   "metadata": {},
   "outputs": [
    {
     "data": {
      "text/plain": [
       "'You said you like vanilla ice cream! 🍦  \\n\\nDo you want to talk about ice cream more?  Maybe your favorite toppings?\\n'"
      ]
     },
     "execution_count": 43,
     "metadata": {},
     "output_type": "execute_result"
    }
   ],
   "source": [
    "from operator import  itemgetter\n",
    "\n",
    "from langchain_core.runnables import RunnablePassthrough\n",
    "\n",
    "chain = (\n",
    "    RunnablePassthrough.assign(messages = itemgetter(\"messages\")| trimmer)\n",
    "    | prompt\n",
    "    | model\n",
    ")\n",
    "\n",
    "response = chain.invoke(\n",
    "    {\n",
    "        \"messages\":messages + [HumanMessage(content=\"What ice cream do i like\")],\n",
    "        \"language\":\"English\"\n",
    "    }\n",
    ")\n",
    "response.content"
   ]
  },
  {
   "cell_type": "code",
   "execution_count": 44,
   "metadata": {},
   "outputs": [
    {
     "data": {
      "text/plain": [
       "'You asked \"what is 2+2?\". \\n'"
      ]
     },
     "execution_count": 44,
     "metadata": {},
     "output_type": "execute_result"
    }
   ],
   "source": [
    "response = chain.invoke(\n",
    "    {\n",
    "        \"messages\":messages + [HumanMessage(content=\"What math problem did i ask\")],\n",
    "        \"language\":\"English\"\n",
    "    }\n",
    ")\n",
    "response.content"
   ]
  },
  {
   "cell_type": "code",
   "execution_count": 45,
   "metadata": {},
   "outputs": [],
   "source": [
    "# Lets wrap this in the message History\n",
    "\n",
    "with_message_history = RunnableWithMessageHistory(\n",
    "    chain,\n",
    "    get_seesion_history,\n",
    "    input_messages_key=\"messages\"\n",
    ")\n",
    "\n",
    "config = {\"configurable\":{\"session_id\":\"chat5\"}}"
   ]
  },
  {
   "cell_type": "code",
   "execution_count": 46,
   "metadata": {},
   "outputs": [
    {
     "data": {
      "text/plain": [
       "'You told me your name is Bob!  😊  \\n'"
      ]
     },
     "execution_count": 46,
     "metadata": {},
     "output_type": "execute_result"
    }
   ],
   "source": [
    "response = chain.invoke(\n",
    "    {\n",
    "        \"messages\":messages + [HumanMessage(content=\"Whats my name?\")],\n",
    "        \"language\":\"English\"\n",
    "    },\n",
    "    config=config\n",
    ")\n",
    "response.content"
   ]
  },
  {
   "cell_type": "markdown",
   "metadata": {},
   "source": [
    "### Vector Stores and Retrievers\n",
    "\n",
    "This Video tutorial will familiarize you with LangChain's vector store and retriever abstractions. These abstractions are designed to support retrievel of data -- from (vector) databases and other sources -- for integration with LLM workflows. They are important for applications that fatch data to be reasoned over as part of model inference, as in the case of retrieval-augmented generation.\n",
    "\n",
    "\n",
    "we will cover\n",
    "- Documents\n",
    "- Vector Stores\n",
    "- Retrievers\n"
   ]
  },
  {
   "cell_type": "code",
   "execution_count": 47,
   "metadata": {},
   "outputs": [
    {
     "name": "stdout",
     "output_type": "stream",
     "text": [
      "Collecting langchain-chroma\n",
      "  Downloading langchain_chroma-0.1.4-py3-none-any.whl.metadata (1.6 kB)\n",
      "Collecting chromadb!=0.5.4,!=0.5.5,<0.6.0,>=0.4.0 (from langchain-chroma)\n",
      "  Downloading chromadb-0.5.11-py3-none-any.whl.metadata (6.8 kB)\n",
      "Requirement already satisfied: fastapi<1,>=0.95.2 in c:\\users\\kumar\\anaconda3\\envs\\ann_project\\lib\\site-packages (from langchain-chroma) (0.115.0)\n",
      "Requirement already satisfied: langchain-core<0.4,>=0.1.40 in c:\\users\\kumar\\anaconda3\\envs\\ann_project\\lib\\site-packages (from langchain-chroma) (0.3.8)\n",
      "Requirement already satisfied: numpy<2.0.0,>=1.26.0 in c:\\users\\kumar\\anaconda3\\envs\\ann_project\\lib\\site-packages (from langchain-chroma) (1.26.4)\n",
      "Collecting build>=1.0.3 (from chromadb!=0.5.4,!=0.5.5,<0.6.0,>=0.4.0->langchain-chroma)\n",
      "  Downloading build-1.2.2.post1-py3-none-any.whl.metadata (6.5 kB)\n",
      "Requirement already satisfied: pydantic>=1.9 in c:\\users\\kumar\\anaconda3\\envs\\ann_project\\lib\\site-packages (from chromadb!=0.5.4,!=0.5.5,<0.6.0,>=0.4.0->langchain-chroma) (2.9.2)\n",
      "Collecting chroma-hnswlib==0.7.6 (from chromadb!=0.5.4,!=0.5.5,<0.6.0,>=0.4.0->langchain-chroma)\n",
      "  Downloading chroma_hnswlib-0.7.6.tar.gz (32 kB)\n",
      "  Installing build dependencies: started\n",
      "  Installing build dependencies: finished with status 'done'\n",
      "  Getting requirements to build wheel: started\n",
      "  Getting requirements to build wheel: finished with status 'done'\n",
      "  Preparing metadata (pyproject.toml): started\n",
      "  Preparing metadata (pyproject.toml): finished with status 'done'\n",
      "Requirement already satisfied: uvicorn>=0.18.3 in c:\\users\\kumar\\anaconda3\\envs\\ann_project\\lib\\site-packages (from uvicorn[standard]>=0.18.3->chromadb!=0.5.4,!=0.5.5,<0.6.0,>=0.4.0->langchain-chroma) (0.31.0)\n",
      "Collecting posthog>=2.4.0 (from chromadb!=0.5.4,!=0.5.5,<0.6.0,>=0.4.0->langchain-chroma)\n",
      "  Downloading posthog-3.7.0-py2.py3-none-any.whl.metadata (2.0 kB)\n",
      "Requirement already satisfied: typing-extensions>=4.5.0 in c:\\users\\kumar\\anaconda3\\envs\\ann_project\\lib\\site-packages (from chromadb!=0.5.4,!=0.5.5,<0.6.0,>=0.4.0->langchain-chroma) (4.12.2)\n",
      "Collecting onnxruntime>=1.14.1 (from chromadb!=0.5.4,!=0.5.5,<0.6.0,>=0.4.0->langchain-chroma)\n",
      "  Downloading onnxruntime-1.19.2-cp312-cp312-win_amd64.whl.metadata (4.7 kB)\n",
      "Collecting opentelemetry-api>=1.2.0 (from chromadb!=0.5.4,!=0.5.5,<0.6.0,>=0.4.0->langchain-chroma)\n",
      "  Downloading opentelemetry_api-1.27.0-py3-none-any.whl.metadata (1.4 kB)\n",
      "Collecting opentelemetry-exporter-otlp-proto-grpc>=1.2.0 (from chromadb!=0.5.4,!=0.5.5,<0.6.0,>=0.4.0->langchain-chroma)\n",
      "  Downloading opentelemetry_exporter_otlp_proto_grpc-1.27.0-py3-none-any.whl.metadata (2.3 kB)\n",
      "Collecting opentelemetry-instrumentation-fastapi>=0.41b0 (from chromadb!=0.5.4,!=0.5.5,<0.6.0,>=0.4.0->langchain-chroma)\n",
      "  Downloading opentelemetry_instrumentation_fastapi-0.48b0-py3-none-any.whl.metadata (2.1 kB)\n",
      "Collecting opentelemetry-sdk>=1.2.0 (from chromadb!=0.5.4,!=0.5.5,<0.6.0,>=0.4.0->langchain-chroma)\n",
      "  Downloading opentelemetry_sdk-1.27.0-py3-none-any.whl.metadata (1.5 kB)\n",
      "Requirement already satisfied: tokenizers>=0.13.2 in c:\\users\\kumar\\anaconda3\\envs\\ann_project\\lib\\site-packages (from chromadb!=0.5.4,!=0.5.5,<0.6.0,>=0.4.0->langchain-chroma) (0.20.0)\n",
      "Collecting pypika>=0.48.9 (from chromadb!=0.5.4,!=0.5.5,<0.6.0,>=0.4.0->langchain-chroma)\n",
      "  Downloading PyPika-0.48.9.tar.gz (67 kB)\n",
      "  Installing build dependencies: started\n",
      "  Installing build dependencies: finished with status 'done'\n",
      "  Getting requirements to build wheel: started\n",
      "  Getting requirements to build wheel: finished with status 'done'\n",
      "  Preparing metadata (pyproject.toml): started\n",
      "  Preparing metadata (pyproject.toml): finished with status 'done'\n",
      "Requirement already satisfied: tqdm>=4.65.0 in c:\\users\\kumar\\anaconda3\\envs\\ann_project\\lib\\site-packages (from chromadb!=0.5.4,!=0.5.5,<0.6.0,>=0.4.0->langchain-chroma) (4.66.5)\n",
      "Collecting overrides>=7.3.1 (from chromadb!=0.5.4,!=0.5.5,<0.6.0,>=0.4.0->langchain-chroma)\n",
      "  Downloading overrides-7.7.0-py3-none-any.whl.metadata (5.8 kB)\n",
      "Collecting importlib-resources (from chromadb!=0.5.4,!=0.5.5,<0.6.0,>=0.4.0->langchain-chroma)\n",
      "  Downloading importlib_resources-6.4.5-py3-none-any.whl.metadata (4.0 kB)\n",
      "Collecting grpcio>=1.58.0 (from chromadb!=0.5.4,!=0.5.5,<0.6.0,>=0.4.0->langchain-chroma)\n",
      "  Downloading grpcio-1.66.2-cp312-cp312-win_amd64.whl.metadata (4.0 kB)\n",
      "Collecting bcrypt>=4.0.1 (from chromadb!=0.5.4,!=0.5.5,<0.6.0,>=0.4.0->langchain-chroma)\n",
      "  Downloading bcrypt-4.2.0-cp39-abi3-win_amd64.whl.metadata (9.9 kB)\n",
      "Collecting typer>=0.9.0 (from chromadb!=0.5.4,!=0.5.5,<0.6.0,>=0.4.0->langchain-chroma)\n",
      "  Downloading typer-0.12.5-py3-none-any.whl.metadata (15 kB)\n",
      "Collecting kubernetes>=28.1.0 (from chromadb!=0.5.4,!=0.5.5,<0.6.0,>=0.4.0->langchain-chroma)\n",
      "  Downloading kubernetes-31.0.0-py2.py3-none-any.whl.metadata (1.5 kB)\n",
      "Requirement already satisfied: tenacity>=8.2.3 in c:\\users\\kumar\\anaconda3\\envs\\ann_project\\lib\\site-packages (from chromadb!=0.5.4,!=0.5.5,<0.6.0,>=0.4.0->langchain-chroma) (8.5.0)\n",
      "Requirement already satisfied: PyYAML>=6.0.0 in c:\\users\\kumar\\anaconda3\\envs\\ann_project\\lib\\site-packages (from chromadb!=0.5.4,!=0.5.5,<0.6.0,>=0.4.0->langchain-chroma) (6.0.2)\n",
      "Collecting mmh3>=4.0.1 (from chromadb!=0.5.4,!=0.5.5,<0.6.0,>=0.4.0->langchain-chroma)\n",
      "  Downloading mmh3-5.0.1-cp312-cp312-win_amd64.whl.metadata (14 kB)\n",
      "Requirement already satisfied: orjson>=3.9.12 in c:\\users\\kumar\\anaconda3\\envs\\ann_project\\lib\\site-packages (from chromadb!=0.5.4,!=0.5.5,<0.6.0,>=0.4.0->langchain-chroma) (3.10.7)\n",
      "Requirement already satisfied: httpx>=0.27.0 in c:\\users\\kumar\\anaconda3\\envs\\ann_project\\lib\\site-packages (from chromadb!=0.5.4,!=0.5.5,<0.6.0,>=0.4.0->langchain-chroma) (0.27.2)\n",
      "Collecting rich>=10.11.0 (from chromadb!=0.5.4,!=0.5.5,<0.6.0,>=0.4.0->langchain-chroma)\n",
      "  Downloading rich-13.9.2-py3-none-any.whl.metadata (18 kB)\n",
      "Requirement already satisfied: starlette<0.39.0,>=0.37.2 in c:\\users\\kumar\\anaconda3\\envs\\ann_project\\lib\\site-packages (from fastapi<1,>=0.95.2->langchain-chroma) (0.38.6)\n",
      "Requirement already satisfied: jsonpatch<2.0,>=1.33 in c:\\users\\kumar\\anaconda3\\envs\\ann_project\\lib\\site-packages (from langchain-core<0.4,>=0.1.40->langchain-chroma) (1.33)\n",
      "Requirement already satisfied: langsmith<0.2.0,>=0.1.125 in c:\\users\\kumar\\anaconda3\\envs\\ann_project\\lib\\site-packages (from langchain-core<0.4,>=0.1.40->langchain-chroma) (0.1.130)\n",
      "Requirement already satisfied: packaging<25,>=23.2 in c:\\users\\kumar\\anaconda3\\envs\\ann_project\\lib\\site-packages (from langchain-core<0.4,>=0.1.40->langchain-chroma) (24.1)\n",
      "Collecting pyproject_hooks (from build>=1.0.3->chromadb!=0.5.4,!=0.5.5,<0.6.0,>=0.4.0->langchain-chroma)\n",
      "  Downloading pyproject_hooks-1.2.0-py3-none-any.whl.metadata (1.3 kB)\n",
      "Requirement already satisfied: colorama in c:\\users\\kumar\\anaconda3\\envs\\ann_project\\lib\\site-packages (from build>=1.0.3->chromadb!=0.5.4,!=0.5.5,<0.6.0,>=0.4.0->langchain-chroma) (0.4.6)\n",
      "Requirement already satisfied: anyio in c:\\users\\kumar\\anaconda3\\envs\\ann_project\\lib\\site-packages (from httpx>=0.27.0->chromadb!=0.5.4,!=0.5.5,<0.6.0,>=0.4.0->langchain-chroma) (4.6.0)\n",
      "Requirement already satisfied: certifi in c:\\users\\kumar\\anaconda3\\envs\\ann_project\\lib\\site-packages (from httpx>=0.27.0->chromadb!=0.5.4,!=0.5.5,<0.6.0,>=0.4.0->langchain-chroma) (2024.8.30)\n",
      "Requirement already satisfied: httpcore==1.* in c:\\users\\kumar\\anaconda3\\envs\\ann_project\\lib\\site-packages (from httpx>=0.27.0->chromadb!=0.5.4,!=0.5.5,<0.6.0,>=0.4.0->langchain-chroma) (1.0.6)\n",
      "Requirement already satisfied: idna in c:\\users\\kumar\\anaconda3\\envs\\ann_project\\lib\\site-packages (from httpx>=0.27.0->chromadb!=0.5.4,!=0.5.5,<0.6.0,>=0.4.0->langchain-chroma) (3.10)\n",
      "Requirement already satisfied: sniffio in c:\\users\\kumar\\anaconda3\\envs\\ann_project\\lib\\site-packages (from httpx>=0.27.0->chromadb!=0.5.4,!=0.5.5,<0.6.0,>=0.4.0->langchain-chroma) (1.3.1)\n",
      "Requirement already satisfied: h11<0.15,>=0.13 in c:\\users\\kumar\\anaconda3\\envs\\ann_project\\lib\\site-packages (from httpcore==1.*->httpx>=0.27.0->chromadb!=0.5.4,!=0.5.5,<0.6.0,>=0.4.0->langchain-chroma) (0.14.0)\n",
      "Requirement already satisfied: jsonpointer>=1.9 in c:\\users\\kumar\\anaconda3\\envs\\ann_project\\lib\\site-packages (from jsonpatch<2.0,>=1.33->langchain-core<0.4,>=0.1.40->langchain-chroma) (3.0.0)\n",
      "Requirement already satisfied: six>=1.9.0 in c:\\users\\kumar\\anaconda3\\envs\\ann_project\\lib\\site-packages (from kubernetes>=28.1.0->chromadb!=0.5.4,!=0.5.5,<0.6.0,>=0.4.0->langchain-chroma) (1.16.0)\n",
      "Requirement already satisfied: python-dateutil>=2.5.3 in c:\\users\\kumar\\anaconda3\\envs\\ann_project\\lib\\site-packages (from kubernetes>=28.1.0->chromadb!=0.5.4,!=0.5.5,<0.6.0,>=0.4.0->langchain-chroma) (2.9.0.post0)\n",
      "Collecting google-auth>=1.0.1 (from kubernetes>=28.1.0->chromadb!=0.5.4,!=0.5.5,<0.6.0,>=0.4.0->langchain-chroma)\n",
      "  Downloading google_auth-2.35.0-py2.py3-none-any.whl.metadata (4.7 kB)\n",
      "Collecting websocket-client!=0.40.0,!=0.41.*,!=0.42.*,>=0.32.0 (from kubernetes>=28.1.0->chromadb!=0.5.4,!=0.5.5,<0.6.0,>=0.4.0->langchain-chroma)\n",
      "  Downloading websocket_client-1.8.0-py3-none-any.whl.metadata (8.0 kB)\n",
      "Requirement already satisfied: requests in c:\\users\\kumar\\anaconda3\\envs\\ann_project\\lib\\site-packages (from kubernetes>=28.1.0->chromadb!=0.5.4,!=0.5.5,<0.6.0,>=0.4.0->langchain-chroma) (2.32.3)\n",
      "Collecting requests-oauthlib (from kubernetes>=28.1.0->chromadb!=0.5.4,!=0.5.5,<0.6.0,>=0.4.0->langchain-chroma)\n",
      "  Downloading requests_oauthlib-2.0.0-py2.py3-none-any.whl.metadata (11 kB)\n",
      "Collecting oauthlib>=3.2.2 (from kubernetes>=28.1.0->chromadb!=0.5.4,!=0.5.5,<0.6.0,>=0.4.0->langchain-chroma)\n",
      "  Downloading oauthlib-3.2.2-py3-none-any.whl.metadata (7.5 kB)\n",
      "Requirement already satisfied: urllib3>=1.24.2 in c:\\users\\kumar\\anaconda3\\envs\\ann_project\\lib\\site-packages (from kubernetes>=28.1.0->chromadb!=0.5.4,!=0.5.5,<0.6.0,>=0.4.0->langchain-chroma) (2.2.3)\n",
      "Collecting durationpy>=0.7 (from kubernetes>=28.1.0->chromadb!=0.5.4,!=0.5.5,<0.6.0,>=0.4.0->langchain-chroma)\n",
      "  Downloading durationpy-0.9-py3-none-any.whl.metadata (338 bytes)\n",
      "Requirement already satisfied: requests-toolbelt<2.0.0,>=1.0.0 in c:\\users\\kumar\\anaconda3\\envs\\ann_project\\lib\\site-packages (from langsmith<0.2.0,>=0.1.125->langchain-core<0.4,>=0.1.40->langchain-chroma) (1.0.0)\n",
      "Collecting coloredlogs (from onnxruntime>=1.14.1->chromadb!=0.5.4,!=0.5.5,<0.6.0,>=0.4.0->langchain-chroma)\n",
      "  Downloading coloredlogs-15.0.1-py2.py3-none-any.whl.metadata (12 kB)\n",
      "Collecting flatbuffers (from onnxruntime>=1.14.1->chromadb!=0.5.4,!=0.5.5,<0.6.0,>=0.4.0->langchain-chroma)\n",
      "  Using cached flatbuffers-24.3.25-py2.py3-none-any.whl.metadata (850 bytes)\n",
      "Collecting protobuf (from onnxruntime>=1.14.1->chromadb!=0.5.4,!=0.5.5,<0.6.0,>=0.4.0->langchain-chroma)\n",
      "  Downloading protobuf-5.28.2-cp310-abi3-win_amd64.whl.metadata (592 bytes)\n",
      "Collecting sympy (from onnxruntime>=1.14.1->chromadb!=0.5.4,!=0.5.5,<0.6.0,>=0.4.0->langchain-chroma)\n",
      "  Downloading sympy-1.13.3-py3-none-any.whl.metadata (12 kB)\n",
      "Collecting deprecated>=1.2.6 (from opentelemetry-api>=1.2.0->chromadb!=0.5.4,!=0.5.5,<0.6.0,>=0.4.0->langchain-chroma)\n",
      "  Downloading Deprecated-1.2.14-py2.py3-none-any.whl.metadata (5.4 kB)\n",
      "Collecting importlib-metadata<=8.4.0,>=6.0 (from opentelemetry-api>=1.2.0->chromadb!=0.5.4,!=0.5.5,<0.6.0,>=0.4.0->langchain-chroma)\n",
      "  Downloading importlib_metadata-8.4.0-py3-none-any.whl.metadata (4.7 kB)\n",
      "Collecting googleapis-common-protos~=1.52 (from opentelemetry-exporter-otlp-proto-grpc>=1.2.0->chromadb!=0.5.4,!=0.5.5,<0.6.0,>=0.4.0->langchain-chroma)\n",
      "  Downloading googleapis_common_protos-1.65.0-py2.py3-none-any.whl.metadata (1.5 kB)\n",
      "Collecting opentelemetry-exporter-otlp-proto-common==1.27.0 (from opentelemetry-exporter-otlp-proto-grpc>=1.2.0->chromadb!=0.5.4,!=0.5.5,<0.6.0,>=0.4.0->langchain-chroma)\n",
      "  Downloading opentelemetry_exporter_otlp_proto_common-1.27.0-py3-none-any.whl.metadata (1.8 kB)\n",
      "Collecting opentelemetry-proto==1.27.0 (from opentelemetry-exporter-otlp-proto-grpc>=1.2.0->chromadb!=0.5.4,!=0.5.5,<0.6.0,>=0.4.0->langchain-chroma)\n",
      "  Downloading opentelemetry_proto-1.27.0-py3-none-any.whl.metadata (2.3 kB)\n",
      "Collecting protobuf (from onnxruntime>=1.14.1->chromadb!=0.5.4,!=0.5.5,<0.6.0,>=0.4.0->langchain-chroma)\n",
      "  Downloading protobuf-4.25.5-cp310-abi3-win_amd64.whl.metadata (541 bytes)\n",
      "Collecting opentelemetry-instrumentation-asgi==0.48b0 (from opentelemetry-instrumentation-fastapi>=0.41b0->chromadb!=0.5.4,!=0.5.5,<0.6.0,>=0.4.0->langchain-chroma)\n",
      "  Downloading opentelemetry_instrumentation_asgi-0.48b0-py3-none-any.whl.metadata (2.0 kB)\n",
      "Collecting opentelemetry-instrumentation==0.48b0 (from opentelemetry-instrumentation-fastapi>=0.41b0->chromadb!=0.5.4,!=0.5.5,<0.6.0,>=0.4.0->langchain-chroma)\n",
      "  Downloading opentelemetry_instrumentation-0.48b0-py3-none-any.whl.metadata (6.1 kB)\n",
      "Collecting opentelemetry-semantic-conventions==0.48b0 (from opentelemetry-instrumentation-fastapi>=0.41b0->chromadb!=0.5.4,!=0.5.5,<0.6.0,>=0.4.0->langchain-chroma)\n",
      "  Downloading opentelemetry_semantic_conventions-0.48b0-py3-none-any.whl.metadata (2.4 kB)\n",
      "Collecting opentelemetry-util-http==0.48b0 (from opentelemetry-instrumentation-fastapi>=0.41b0->chromadb!=0.5.4,!=0.5.5,<0.6.0,>=0.4.0->langchain-chroma)\n",
      "  Downloading opentelemetry_util_http-0.48b0-py3-none-any.whl.metadata (2.5 kB)\n",
      "Requirement already satisfied: setuptools>=16.0 in c:\\users\\kumar\\anaconda3\\envs\\ann_project\\lib\\site-packages (from opentelemetry-instrumentation==0.48b0->opentelemetry-instrumentation-fastapi>=0.41b0->chromadb!=0.5.4,!=0.5.5,<0.6.0,>=0.4.0->langchain-chroma) (72.1.0)\n",
      "Collecting wrapt<2.0.0,>=1.0.0 (from opentelemetry-instrumentation==0.48b0->opentelemetry-instrumentation-fastapi>=0.41b0->chromadb!=0.5.4,!=0.5.5,<0.6.0,>=0.4.0->langchain-chroma)\n",
      "  Using cached wrapt-1.16.0-cp312-cp312-win_amd64.whl.metadata (6.8 kB)\n",
      "Collecting asgiref~=3.0 (from opentelemetry-instrumentation-asgi==0.48b0->opentelemetry-instrumentation-fastapi>=0.41b0->chromadb!=0.5.4,!=0.5.5,<0.6.0,>=0.4.0->langchain-chroma)\n",
      "  Downloading asgiref-3.8.1-py3-none-any.whl.metadata (9.3 kB)\n",
      "Collecting monotonic>=1.5 (from posthog>=2.4.0->chromadb!=0.5.4,!=0.5.5,<0.6.0,>=0.4.0->langchain-chroma)\n",
      "  Downloading monotonic-1.6-py2.py3-none-any.whl.metadata (1.5 kB)\n",
      "Collecting backoff>=1.10.0 (from posthog>=2.4.0->chromadb!=0.5.4,!=0.5.5,<0.6.0,>=0.4.0->langchain-chroma)\n",
      "  Downloading backoff-2.2.1-py3-none-any.whl.metadata (14 kB)\n",
      "Requirement already satisfied: annotated-types>=0.6.0 in c:\\users\\kumar\\anaconda3\\envs\\ann_project\\lib\\site-packages (from pydantic>=1.9->chromadb!=0.5.4,!=0.5.5,<0.6.0,>=0.4.0->langchain-chroma) (0.7.0)\n",
      "Requirement already satisfied: pydantic-core==2.23.4 in c:\\users\\kumar\\anaconda3\\envs\\ann_project\\lib\\site-packages (from pydantic>=1.9->chromadb!=0.5.4,!=0.5.5,<0.6.0,>=0.4.0->langchain-chroma) (2.23.4)\n",
      "Collecting markdown-it-py>=2.2.0 (from rich>=10.11.0->chromadb!=0.5.4,!=0.5.5,<0.6.0,>=0.4.0->langchain-chroma)\n",
      "  Using cached markdown_it_py-3.0.0-py3-none-any.whl.metadata (6.9 kB)\n",
      "Requirement already satisfied: pygments<3.0.0,>=2.13.0 in c:\\users\\kumar\\anaconda3\\envs\\ann_project\\lib\\site-packages (from rich>=10.11.0->chromadb!=0.5.4,!=0.5.5,<0.6.0,>=0.4.0->langchain-chroma) (2.15.1)\n",
      "Requirement already satisfied: huggingface-hub<1.0,>=0.16.4 in c:\\users\\kumar\\anaconda3\\envs\\ann_project\\lib\\site-packages (from tokenizers>=0.13.2->chromadb!=0.5.4,!=0.5.5,<0.6.0,>=0.4.0->langchain-chroma) (0.25.1)\n",
      "Requirement already satisfied: click>=8.0.0 in c:\\users\\kumar\\anaconda3\\envs\\ann_project\\lib\\site-packages (from typer>=0.9.0->chromadb!=0.5.4,!=0.5.5,<0.6.0,>=0.4.0->langchain-chroma) (8.1.7)\n",
      "Collecting shellingham>=1.3.0 (from typer>=0.9.0->chromadb!=0.5.4,!=0.5.5,<0.6.0,>=0.4.0->langchain-chroma)\n",
      "  Downloading shellingham-1.5.4-py2.py3-none-any.whl.metadata (3.5 kB)\n",
      "Collecting httptools>=0.5.0 (from uvicorn[standard]>=0.18.3->chromadb!=0.5.4,!=0.5.5,<0.6.0,>=0.4.0->langchain-chroma)\n",
      "  Downloading httptools-0.6.1-cp312-cp312-win_amd64.whl.metadata (3.7 kB)\n",
      "Requirement already satisfied: python-dotenv>=0.13 in c:\\users\\kumar\\anaconda3\\envs\\ann_project\\lib\\site-packages (from uvicorn[standard]>=0.18.3->chromadb!=0.5.4,!=0.5.5,<0.6.0,>=0.4.0->langchain-chroma) (1.0.1)\n",
      "Collecting watchfiles>=0.13 (from uvicorn[standard]>=0.18.3->chromadb!=0.5.4,!=0.5.5,<0.6.0,>=0.4.0->langchain-chroma)\n",
      "  Downloading watchfiles-0.24.0-cp312-none-win_amd64.whl.metadata (5.0 kB)\n",
      "Collecting websockets>=10.4 (from uvicorn[standard]>=0.18.3->chromadb!=0.5.4,!=0.5.5,<0.6.0,>=0.4.0->langchain-chroma)\n",
      "  Downloading websockets-13.1-cp312-cp312-win_amd64.whl.metadata (7.0 kB)\n",
      "Collecting cachetools<6.0,>=2.0.0 (from google-auth>=1.0.1->kubernetes>=28.1.0->chromadb!=0.5.4,!=0.5.5,<0.6.0,>=0.4.0->langchain-chroma)\n",
      "  Downloading cachetools-5.5.0-py3-none-any.whl.metadata (5.3 kB)\n",
      "Collecting pyasn1-modules>=0.2.1 (from google-auth>=1.0.1->kubernetes>=28.1.0->chromadb!=0.5.4,!=0.5.5,<0.6.0,>=0.4.0->langchain-chroma)\n",
      "  Downloading pyasn1_modules-0.4.1-py3-none-any.whl.metadata (3.5 kB)\n",
      "Collecting rsa<5,>=3.1.4 (from google-auth>=1.0.1->kubernetes>=28.1.0->chromadb!=0.5.4,!=0.5.5,<0.6.0,>=0.4.0->langchain-chroma)\n",
      "  Downloading rsa-4.9-py3-none-any.whl.metadata (4.2 kB)\n",
      "Requirement already satisfied: filelock in c:\\users\\kumar\\anaconda3\\envs\\ann_project\\lib\\site-packages (from huggingface-hub<1.0,>=0.16.4->tokenizers>=0.13.2->chromadb!=0.5.4,!=0.5.5,<0.6.0,>=0.4.0->langchain-chroma) (3.16.1)\n",
      "Requirement already satisfied: fsspec>=2023.5.0 in c:\\users\\kumar\\anaconda3\\envs\\ann_project\\lib\\site-packages (from huggingface-hub<1.0,>=0.16.4->tokenizers>=0.13.2->chromadb!=0.5.4,!=0.5.5,<0.6.0,>=0.4.0->langchain-chroma) (2024.9.0)\n",
      "Collecting zipp>=0.5 (from importlib-metadata<=8.4.0,>=6.0->opentelemetry-api>=1.2.0->chromadb!=0.5.4,!=0.5.5,<0.6.0,>=0.4.0->langchain-chroma)\n",
      "  Downloading zipp-3.20.2-py3-none-any.whl.metadata (3.7 kB)\n",
      "Collecting mdurl~=0.1 (from markdown-it-py>=2.2.0->rich>=10.11.0->chromadb!=0.5.4,!=0.5.5,<0.6.0,>=0.4.0->langchain-chroma)\n",
      "  Using cached mdurl-0.1.2-py3-none-any.whl.metadata (1.6 kB)\n",
      "Requirement already satisfied: charset-normalizer<4,>=2 in c:\\users\\kumar\\anaconda3\\envs\\ann_project\\lib\\site-packages (from requests->kubernetes>=28.1.0->chromadb!=0.5.4,!=0.5.5,<0.6.0,>=0.4.0->langchain-chroma) (3.3.2)\n",
      "Collecting humanfriendly>=9.1 (from coloredlogs->onnxruntime>=1.14.1->chromadb!=0.5.4,!=0.5.5,<0.6.0,>=0.4.0->langchain-chroma)\n",
      "  Downloading humanfriendly-10.0-py2.py3-none-any.whl.metadata (9.2 kB)\n",
      "Collecting mpmath<1.4,>=1.1.0 (from sympy->onnxruntime>=1.14.1->chromadb!=0.5.4,!=0.5.5,<0.6.0,>=0.4.0->langchain-chroma)\n",
      "  Downloading mpmath-1.3.0-py3-none-any.whl.metadata (8.6 kB)\n",
      "Collecting pyreadline3 (from humanfriendly>=9.1->coloredlogs->onnxruntime>=1.14.1->chromadb!=0.5.4,!=0.5.5,<0.6.0,>=0.4.0->langchain-chroma)\n",
      "  Downloading pyreadline3-3.5.4-py3-none-any.whl.metadata (4.7 kB)\n",
      "Collecting pyasn1<0.7.0,>=0.4.6 (from pyasn1-modules>=0.2.1->google-auth>=1.0.1->kubernetes>=28.1.0->chromadb!=0.5.4,!=0.5.5,<0.6.0,>=0.4.0->langchain-chroma)\n",
      "  Downloading pyasn1-0.6.1-py3-none-any.whl.metadata (8.4 kB)\n",
      "Downloading langchain_chroma-0.1.4-py3-none-any.whl (10 kB)\n",
      "Downloading chromadb-0.5.11-py3-none-any.whl (603 kB)\n",
      "   ---------------------------------------- 0.0/604.0 kB ? eta -:--:--\n",
      "   ---------------------------------------- 604.0/604.0 kB 3.6 MB/s eta 0:00:00\n",
      "Downloading bcrypt-4.2.0-cp39-abi3-win_amd64.whl (151 kB)\n",
      "Downloading build-1.2.2.post1-py3-none-any.whl (22 kB)\n",
      "Downloading grpcio-1.66.2-cp312-cp312-win_amd64.whl (4.3 MB)\n",
      "   ---------------------------------------- 0.0/4.3 MB ? eta -:--:--\n",
      "   --------- ------------------------------ 1.0/4.3 MB 5.6 MB/s eta 0:00:01\n",
      "   ----------------- ---------------------- 1.8/4.3 MB 4.6 MB/s eta 0:00:01\n",
      "   ---------------------- ----------------- 2.4/4.3 MB 3.4 MB/s eta 0:00:01\n",
      "   ---------------------------------- ----- 3.7/4.3 MB 4.2 MB/s eta 0:00:01\n",
      "   ---------------------------------------- 4.3/4.3 MB 4.1 MB/s eta 0:00:00\n",
      "Downloading kubernetes-31.0.0-py2.py3-none-any.whl (1.9 MB)\n",
      "   ---------------------------------------- 0.0/1.9 MB ? eta -:--:--\n",
      "   ---------------------- ----------------- 1.0/1.9 MB 6.3 MB/s eta 0:00:01\n",
      "   ---------------------------------------- 1.9/1.9 MB 4.4 MB/s eta 0:00:00\n",
      "Downloading mmh3-5.0.1-cp312-cp312-win_amd64.whl (39 kB)\n",
      "Downloading onnxruntime-1.19.2-cp312-cp312-win_amd64.whl (11.1 MB)\n",
      "   ---------------------------------------- 0.0/11.1 MB ? eta -:--:--\n",
      "   --- ------------------------------------ 1.0/11.1 MB 6.3 MB/s eta 0:00:02\n",
      "   ------- -------------------------------- 2.1/11.1 MB 4.5 MB/s eta 0:00:02\n",
      "   ---------- ----------------------------- 2.9/11.1 MB 4.4 MB/s eta 0:00:02\n",
      "   ------------- -------------------------- 3.7/11.1 MB 4.3 MB/s eta 0:00:02\n",
      "   ---------------- ----------------------- 4.5/11.1 MB 4.2 MB/s eta 0:00:02\n",
      "   ------------------ --------------------- 5.2/11.1 MB 4.1 MB/s eta 0:00:02\n",
      "   --------------------- ------------------ 6.0/11.1 MB 4.1 MB/s eta 0:00:02\n",
      "   ------------------------ --------------- 6.8/11.1 MB 4.0 MB/s eta 0:00:02\n",
      "   ---------------------------- ----------- 7.9/11.1 MB 4.0 MB/s eta 0:00:01\n",
      "   ------------------------------- -------- 8.7/11.1 MB 4.0 MB/s eta 0:00:01\n",
      "   ---------------------------------- ----- 9.4/11.1 MB 4.0 MB/s eta 0:00:01\n",
      "   ------------------------------------ --- 10.2/11.1 MB 4.0 MB/s eta 0:00:01\n",
      "   ---------------------------------------  11.0/11.1 MB 4.0 MB/s eta 0:00:01\n",
      "   ---------------------------------------- 11.1/11.1 MB 3.9 MB/s eta 0:00:00\n",
      "Downloading opentelemetry_api-1.27.0-py3-none-any.whl (63 kB)\n",
      "Downloading opentelemetry_exporter_otlp_proto_grpc-1.27.0-py3-none-any.whl (18 kB)\n",
      "Downloading opentelemetry_exporter_otlp_proto_common-1.27.0-py3-none-any.whl (17 kB)\n",
      "Downloading opentelemetry_proto-1.27.0-py3-none-any.whl (52 kB)\n",
      "Downloading opentelemetry_instrumentation_fastapi-0.48b0-py3-none-any.whl (11 kB)\n",
      "Downloading opentelemetry_instrumentation-0.48b0-py3-none-any.whl (29 kB)\n",
      "Downloading opentelemetry_instrumentation_asgi-0.48b0-py3-none-any.whl (15 kB)\n",
      "Downloading opentelemetry_semantic_conventions-0.48b0-py3-none-any.whl (149 kB)\n",
      "Downloading opentelemetry_util_http-0.48b0-py3-none-any.whl (6.9 kB)\n",
      "Downloading opentelemetry_sdk-1.27.0-py3-none-any.whl (110 kB)\n",
      "Downloading overrides-7.7.0-py3-none-any.whl (17 kB)\n",
      "Downloading posthog-3.7.0-py2.py3-none-any.whl (54 kB)\n",
      "Downloading rich-13.9.2-py3-none-any.whl (242 kB)\n",
      "Downloading typer-0.12.5-py3-none-any.whl (47 kB)\n",
      "Downloading importlib_resources-6.4.5-py3-none-any.whl (36 kB)\n",
      "Downloading backoff-2.2.1-py3-none-any.whl (15 kB)\n",
      "Downloading Deprecated-1.2.14-py2.py3-none-any.whl (9.6 kB)\n",
      "Downloading durationpy-0.9-py3-none-any.whl (3.5 kB)\n",
      "Downloading google_auth-2.35.0-py2.py3-none-any.whl (208 kB)\n",
      "Downloading googleapis_common_protos-1.65.0-py2.py3-none-any.whl (220 kB)\n",
      "Downloading httptools-0.6.1-cp312-cp312-win_amd64.whl (55 kB)\n",
      "Downloading importlib_metadata-8.4.0-py3-none-any.whl (26 kB)\n",
      "Using cached markdown_it_py-3.0.0-py3-none-any.whl (87 kB)\n",
      "Downloading monotonic-1.6-py2.py3-none-any.whl (8.2 kB)\n",
      "Downloading oauthlib-3.2.2-py3-none-any.whl (151 kB)\n",
      "Downloading protobuf-4.25.5-cp310-abi3-win_amd64.whl (413 kB)\n",
      "Downloading shellingham-1.5.4-py2.py3-none-any.whl (9.8 kB)\n",
      "Downloading watchfiles-0.24.0-cp312-none-win_amd64.whl (277 kB)\n",
      "Downloading websocket_client-1.8.0-py3-none-any.whl (58 kB)\n",
      "Downloading websockets-13.1-cp312-cp312-win_amd64.whl (159 kB)\n",
      "Downloading coloredlogs-15.0.1-py2.py3-none-any.whl (46 kB)\n",
      "Using cached flatbuffers-24.3.25-py2.py3-none-any.whl (26 kB)\n",
      "Downloading pyproject_hooks-1.2.0-py3-none-any.whl (10 kB)\n",
      "Downloading requests_oauthlib-2.0.0-py2.py3-none-any.whl (24 kB)\n",
      "Downloading sympy-1.13.3-py3-none-any.whl (6.2 MB)\n",
      "   ---------------------------------------- 0.0/6.2 MB ? eta -:--:--\n",
      "   ------ --------------------------------- 1.0/6.2 MB 5.6 MB/s eta 0:00:01\n",
      "   -------- ------------------------------- 1.3/6.2 MB 5.2 MB/s eta 0:00:01\n",
      "   ---------------- ----------------------- 2.6/6.2 MB 4.4 MB/s eta 0:00:01\n",
      "   ----------------------- ---------------- 3.7/6.2 MB 4.2 MB/s eta 0:00:01\n",
      "   ---------------------------- ----------- 4.5/6.2 MB 4.1 MB/s eta 0:00:01\n",
      "   --------------------------------- ------ 5.2/6.2 MB 4.0 MB/s eta 0:00:01\n",
      "   -------------------------------------- - 6.0/6.2 MB 4.1 MB/s eta 0:00:01\n",
      "   ---------------------------------------- 6.2/6.2 MB 4.0 MB/s eta 0:00:00\n",
      "Downloading asgiref-3.8.1-py3-none-any.whl (23 kB)\n",
      "Downloading cachetools-5.5.0-py3-none-any.whl (9.5 kB)\n",
      "Downloading humanfriendly-10.0-py2.py3-none-any.whl (86 kB)\n",
      "Using cached mdurl-0.1.2-py3-none-any.whl (10.0 kB)\n",
      "Downloading mpmath-1.3.0-py3-none-any.whl (536 kB)\n",
      "   ---------------------------------------- 0.0/536.2 kB ? eta -:--:--\n",
      "   ---------------------------------------- 536.2/536.2 kB 5.8 MB/s eta 0:00:00\n",
      "Downloading pyasn1_modules-0.4.1-py3-none-any.whl (181 kB)\n",
      "Downloading rsa-4.9-py3-none-any.whl (34 kB)\n",
      "Using cached wrapt-1.16.0-cp312-cp312-win_amd64.whl (37 kB)\n",
      "Downloading zipp-3.20.2-py3-none-any.whl (9.2 kB)\n",
      "Downloading pyasn1-0.6.1-py3-none-any.whl (83 kB)\n",
      "Downloading pyreadline3-3.5.4-py3-none-any.whl (83 kB)\n",
      "Building wheels for collected packages: chroma-hnswlib, pypika\n",
      "  Building wheel for chroma-hnswlib (pyproject.toml): started\n",
      "  Building wheel for chroma-hnswlib (pyproject.toml): finished with status 'done'\n",
      "  Created wheel for chroma-hnswlib: filename=chroma_hnswlib-0.7.6-cp312-cp312-win_amd64.whl size=156531 sha256=25a287aa8db3d79260ff29ea28ff7b678957a9311a6aec9bee1969dc1ac0541c\n",
      "  Stored in directory: c:\\users\\kumar\\appdata\\local\\pip\\cache\\wheels\\28\\29\\0e\\934c768c2e673547ec6e947e821346f4ed691a089fe046743f\n",
      "  Building wheel for pypika (pyproject.toml): started\n",
      "  Building wheel for pypika (pyproject.toml): finished with status 'done'\n",
      "  Created wheel for pypika: filename=PyPika-0.48.9-py2.py3-none-any.whl size=53834 sha256=04639c53171193ea2ea85e63f73623ad8aa7b5157312a85717a59ff6abd64bdc\n",
      "  Stored in directory: c:\\users\\kumar\\appdata\\local\\pip\\cache\\wheels\\d5\\3d\\69\\8d68d249cd3de2584f226e27fd431d6344f7d70fd856ebd01b\n",
      "Successfully built chroma-hnswlib pypika\n",
      "Installing collected packages: pypika, mpmath, monotonic, flatbuffers, durationpy, zipp, wrapt, websockets, websocket-client, sympy, shellingham, pyreadline3, pyproject_hooks, pyasn1, protobuf, overrides, opentelemetry-util-http, oauthlib, mmh3, mdurl, importlib-resources, httptools, grpcio, chroma-hnswlib, cachetools, bcrypt, backoff, asgiref, watchfiles, rsa, requests-oauthlib, pyasn1-modules, posthog, opentelemetry-proto, markdown-it-py, importlib-metadata, humanfriendly, googleapis-common-protos, deprecated, build, rich, opentelemetry-exporter-otlp-proto-common, opentelemetry-api, google-auth, coloredlogs, typer, opentelemetry-semantic-conventions, opentelemetry-instrumentation, onnxruntime, kubernetes, opentelemetry-sdk, opentelemetry-instrumentation-asgi, opentelemetry-instrumentation-fastapi, opentelemetry-exporter-otlp-proto-grpc, chromadb, langchain-chroma\n",
      "Successfully installed asgiref-3.8.1 backoff-2.2.1 bcrypt-4.2.0 build-1.2.2.post1 cachetools-5.5.0 chroma-hnswlib-0.7.6 chromadb-0.5.11 coloredlogs-15.0.1 deprecated-1.2.14 durationpy-0.9 flatbuffers-24.3.25 google-auth-2.35.0 googleapis-common-protos-1.65.0 grpcio-1.66.2 httptools-0.6.1 humanfriendly-10.0 importlib-metadata-8.4.0 importlib-resources-6.4.5 kubernetes-31.0.0 langchain-chroma-0.1.4 markdown-it-py-3.0.0 mdurl-0.1.2 mmh3-5.0.1 monotonic-1.6 mpmath-1.3.0 oauthlib-3.2.2 onnxruntime-1.19.2 opentelemetry-api-1.27.0 opentelemetry-exporter-otlp-proto-common-1.27.0 opentelemetry-exporter-otlp-proto-grpc-1.27.0 opentelemetry-instrumentation-0.48b0 opentelemetry-instrumentation-asgi-0.48b0 opentelemetry-instrumentation-fastapi-0.48b0 opentelemetry-proto-1.27.0 opentelemetry-sdk-1.27.0 opentelemetry-semantic-conventions-0.48b0 opentelemetry-util-http-0.48b0 overrides-7.7.0 posthog-3.7.0 protobuf-4.25.5 pyasn1-0.6.1 pyasn1-modules-0.4.1 pypika-0.48.9 pyproject_hooks-1.2.0 pyreadline3-3.5.4 requests-oauthlib-2.0.0 rich-13.9.2 rsa-4.9 shellingham-1.5.4 sympy-1.13.3 typer-0.12.5 watchfiles-0.24.0 websocket-client-1.8.0 websockets-13.1 wrapt-1.16.0 zipp-3.20.2\n"
     ]
    }
   ],
   "source": [
    "!pip install langchain-chroma"
   ]
  },
  {
   "cell_type": "code",
   "execution_count": 11,
   "metadata": {},
   "outputs": [],
   "source": [
    "from langchain_core.documents import Document\n",
    "import os\n",
    "from dotenv import load_dotenv\n",
    "load_dotenv()\n",
    "\n",
    "groq_api_key = os.getenv(\"GROQ_KEY\")"
   ]
  },
  {
   "cell_type": "code",
   "execution_count": 7,
   "metadata": {},
   "outputs": [],
   "source": [
    "documents = [\n",
    "    Document(\n",
    "        page_content=\"Dogs are great companions, know for their loyality and friendliness.\",\n",
    "        metadata= {\"source\":\"mammal-pets-doc\"}\n",
    "    ),\n",
    "    Document(\n",
    "        page_content=\"Cats are independent pets that often enjoy their own space\",\n",
    "        metadata= {\"source\":\"mammal-pets-doc\"}\n",
    "    ),\n",
    "    Document(\n",
    "        page_content=\"Goldfish are popular pets for beginners, requiring relatively simple care.\",\n",
    "        metadata= {\"source\":\"fish-pets-doc\"}\n",
    "    ),\n",
    "    Document(\n",
    "        page_content=\"Parrots are intelligent birds capable of mimicking human speech.\",\n",
    "        metadata= {\"source\":\"bird-pets-doc\"}\n",
    "    ),\n",
    "    Document(\n",
    "        page_content=\"Rabbits are social animals that need plenty of space to hop around.\",\n",
    "        metadata= {\"source\":\"mammal-pets-doc\"}\n",
    "    ),\n",
    "]"
   ]
  },
  {
   "cell_type": "code",
   "execution_count": 8,
   "metadata": {},
   "outputs": [
    {
     "data": {
      "text/plain": [
       "[Document(metadata={'source': 'mammal-pets-doc'}, page_content='Dogs are great companions, know for their loyality and friendliness.'),\n",
       " Document(metadata={'source': 'mammal-pets-doc'}, page_content='Cats are independent pets that often enjoy their own space'),\n",
       " Document(metadata={'source': 'fish-pets-doc'}, page_content='Goldfish are popular pets for beginners, requiring relatively simple care.'),\n",
       " Document(metadata={'source': 'bird-pets-doc'}, page_content='Parrots are intelligent birds capable of mimicking human speech.'),\n",
       " Document(metadata={'source': 'mammal-pets-doc'}, page_content='Rabbits are social animals that need plenty of space to hop around.')]"
      ]
     },
     "execution_count": 8,
     "metadata": {},
     "output_type": "execute_result"
    }
   ],
   "source": [
    "documents"
   ]
  },
  {
   "cell_type": "code",
   "execution_count": 12,
   "metadata": {},
   "outputs": [],
   "source": [
    "os.environ[\"HF_Token\"] = os.getenv(\"HUGGING_FACE_TOKEN\")"
   ]
  },
  {
   "cell_type": "code",
   "execution_count": 14,
   "metadata": {},
   "outputs": [
    {
     "data": {
      "text/plain": [
       "ChatGroq(client=<groq.resources.chat.completions.Completions object at 0x000002CB883961B0>, async_client=<groq.resources.chat.completions.AsyncCompletions object at 0x000002CB88396C30>, model_name='Llama3-8b-8192', model_kwargs={}, groq_api_key=SecretStr('**********'))"
      ]
     },
     "execution_count": 14,
     "metadata": {},
     "output_type": "execute_result"
    }
   ],
   "source": [
    "## VectorStores\n",
    "from langchain_chroma import Chroma\n",
    "from langchain_groq import ChatGroq\n",
    "llm = ChatGroq(groq_api_key= groq_api_key,model= \"Llama3-8b-8192\")\n",
    "llm"
   ]
  },
  {
   "cell_type": "code",
   "execution_count": 55,
   "metadata": {},
   "outputs": [
    {
     "name": "stdout",
     "output_type": "stream",
     "text": [
      "Collecting langchain_huggingface\n",
      "  Downloading langchain_huggingface-0.1.0-py3-none-any.whl.metadata (1.3 kB)\n",
      "Requirement already satisfied: huggingface-hub>=0.23.0 in c:\\users\\kumar\\anaconda3\\envs\\ann_project\\lib\\site-packages (from langchain_huggingface) (0.25.1)\n",
      "Requirement already satisfied: langchain-core<0.4,>=0.3.0 in c:\\users\\kumar\\anaconda3\\envs\\ann_project\\lib\\site-packages (from langchain_huggingface) (0.3.8)\n",
      "Collecting sentence-transformers>=2.6.0 (from langchain_huggingface)\n",
      "  Downloading sentence_transformers-3.1.1-py3-none-any.whl.metadata (10 kB)\n",
      "Requirement already satisfied: tokenizers>=0.19.1 in c:\\users\\kumar\\anaconda3\\envs\\ann_project\\lib\\site-packages (from langchain_huggingface) (0.20.0)\n",
      "Requirement already satisfied: transformers>=4.39.0 in c:\\users\\kumar\\anaconda3\\envs\\ann_project\\lib\\site-packages (from langchain_huggingface) (4.45.1)\n",
      "Requirement already satisfied: filelock in c:\\users\\kumar\\anaconda3\\envs\\ann_project\\lib\\site-packages (from huggingface-hub>=0.23.0->langchain_huggingface) (3.16.1)\n",
      "Requirement already satisfied: fsspec>=2023.5.0 in c:\\users\\kumar\\anaconda3\\envs\\ann_project\\lib\\site-packages (from huggingface-hub>=0.23.0->langchain_huggingface) (2024.9.0)\n",
      "Requirement already satisfied: packaging>=20.9 in c:\\users\\kumar\\anaconda3\\envs\\ann_project\\lib\\site-packages (from huggingface-hub>=0.23.0->langchain_huggingface) (24.1)\n",
      "Requirement already satisfied: pyyaml>=5.1 in c:\\users\\kumar\\anaconda3\\envs\\ann_project\\lib\\site-packages (from huggingface-hub>=0.23.0->langchain_huggingface) (6.0.2)\n",
      "Requirement already satisfied: requests in c:\\users\\kumar\\anaconda3\\envs\\ann_project\\lib\\site-packages (from huggingface-hub>=0.23.0->langchain_huggingface) (2.32.3)\n",
      "Requirement already satisfied: tqdm>=4.42.1 in c:\\users\\kumar\\anaconda3\\envs\\ann_project\\lib\\site-packages (from huggingface-hub>=0.23.0->langchain_huggingface) (4.66.5)\n",
      "Requirement already satisfied: typing-extensions>=3.7.4.3 in c:\\users\\kumar\\anaconda3\\envs\\ann_project\\lib\\site-packages (from huggingface-hub>=0.23.0->langchain_huggingface) (4.12.2)\n",
      "Requirement already satisfied: jsonpatch<2.0,>=1.33 in c:\\users\\kumar\\anaconda3\\envs\\ann_project\\lib\\site-packages (from langchain-core<0.4,>=0.3.0->langchain_huggingface) (1.33)\n",
      "Requirement already satisfied: langsmith<0.2.0,>=0.1.125 in c:\\users\\kumar\\anaconda3\\envs\\ann_project\\lib\\site-packages (from langchain-core<0.4,>=0.3.0->langchain_huggingface) (0.1.130)\n",
      "Requirement already satisfied: pydantic<3.0.0,>=2.5.2 in c:\\users\\kumar\\anaconda3\\envs\\ann_project\\lib\\site-packages (from langchain-core<0.4,>=0.3.0->langchain_huggingface) (2.9.2)\n",
      "Requirement already satisfied: tenacity!=8.4.0,<9.0.0,>=8.1.0 in c:\\users\\kumar\\anaconda3\\envs\\ann_project\\lib\\site-packages (from langchain-core<0.4,>=0.3.0->langchain_huggingface) (8.5.0)\n",
      "Collecting torch>=1.11.0 (from sentence-transformers>=2.6.0->langchain_huggingface)\n",
      "  Downloading torch-2.4.1-cp312-cp312-win_amd64.whl.metadata (27 kB)\n",
      "Collecting scikit-learn (from sentence-transformers>=2.6.0->langchain_huggingface)\n",
      "  Downloading scikit_learn-1.5.2-cp312-cp312-win_amd64.whl.metadata (13 kB)\n",
      "Collecting scipy (from sentence-transformers>=2.6.0->langchain_huggingface)\n",
      "  Downloading scipy-1.14.1-cp312-cp312-win_amd64.whl.metadata (60 kB)\n",
      "Collecting Pillow (from sentence-transformers>=2.6.0->langchain_huggingface)\n",
      "  Downloading pillow-10.4.0-cp312-cp312-win_amd64.whl.metadata (9.3 kB)\n",
      "Requirement already satisfied: numpy>=1.17 in c:\\users\\kumar\\anaconda3\\envs\\ann_project\\lib\\site-packages (from transformers>=4.39.0->langchain_huggingface) (1.26.4)\n",
      "Requirement already satisfied: regex!=2019.12.17 in c:\\users\\kumar\\anaconda3\\envs\\ann_project\\lib\\site-packages (from transformers>=4.39.0->langchain_huggingface) (2024.9.11)\n",
      "Requirement already satisfied: safetensors>=0.4.1 in c:\\users\\kumar\\anaconda3\\envs\\ann_project\\lib\\site-packages (from transformers>=4.39.0->langchain_huggingface) (0.4.5)\n",
      "Requirement already satisfied: jsonpointer>=1.9 in c:\\users\\kumar\\anaconda3\\envs\\ann_project\\lib\\site-packages (from jsonpatch<2.0,>=1.33->langchain-core<0.4,>=0.3.0->langchain_huggingface) (3.0.0)\n",
      "Requirement already satisfied: httpx<1,>=0.23.0 in c:\\users\\kumar\\anaconda3\\envs\\ann_project\\lib\\site-packages (from langsmith<0.2.0,>=0.1.125->langchain-core<0.4,>=0.3.0->langchain_huggingface) (0.27.2)\n",
      "Requirement already satisfied: orjson<4.0.0,>=3.9.14 in c:\\users\\kumar\\anaconda3\\envs\\ann_project\\lib\\site-packages (from langsmith<0.2.0,>=0.1.125->langchain-core<0.4,>=0.3.0->langchain_huggingface) (3.10.7)\n",
      "Requirement already satisfied: requests-toolbelt<2.0.0,>=1.0.0 in c:\\users\\kumar\\anaconda3\\envs\\ann_project\\lib\\site-packages (from langsmith<0.2.0,>=0.1.125->langchain-core<0.4,>=0.3.0->langchain_huggingface) (1.0.0)\n",
      "Requirement already satisfied: annotated-types>=0.6.0 in c:\\users\\kumar\\anaconda3\\envs\\ann_project\\lib\\site-packages (from pydantic<3.0.0,>=2.5.2->langchain-core<0.4,>=0.3.0->langchain_huggingface) (0.7.0)\n",
      "Requirement already satisfied: pydantic-core==2.23.4 in c:\\users\\kumar\\anaconda3\\envs\\ann_project\\lib\\site-packages (from pydantic<3.0.0,>=2.5.2->langchain-core<0.4,>=0.3.0->langchain_huggingface) (2.23.4)\n",
      "Requirement already satisfied: charset-normalizer<4,>=2 in c:\\users\\kumar\\anaconda3\\envs\\ann_project\\lib\\site-packages (from requests->huggingface-hub>=0.23.0->langchain_huggingface) (3.3.2)\n",
      "Requirement already satisfied: idna<4,>=2.5 in c:\\users\\kumar\\anaconda3\\envs\\ann_project\\lib\\site-packages (from requests->huggingface-hub>=0.23.0->langchain_huggingface) (3.10)\n",
      "Requirement already satisfied: urllib3<3,>=1.21.1 in c:\\users\\kumar\\anaconda3\\envs\\ann_project\\lib\\site-packages (from requests->huggingface-hub>=0.23.0->langchain_huggingface) (2.2.3)\n",
      "Requirement already satisfied: certifi>=2017.4.17 in c:\\users\\kumar\\anaconda3\\envs\\ann_project\\lib\\site-packages (from requests->huggingface-hub>=0.23.0->langchain_huggingface) (2024.8.30)\n",
      "Requirement already satisfied: sympy in c:\\users\\kumar\\anaconda3\\envs\\ann_project\\lib\\site-packages (from torch>=1.11.0->sentence-transformers>=2.6.0->langchain_huggingface) (1.13.3)\n",
      "Collecting networkx (from torch>=1.11.0->sentence-transformers>=2.6.0->langchain_huggingface)\n",
      "  Downloading networkx-3.3-py3-none-any.whl.metadata (5.1 kB)\n",
      "Collecting jinja2 (from torch>=1.11.0->sentence-transformers>=2.6.0->langchain_huggingface)\n",
      "  Downloading jinja2-3.1.4-py3-none-any.whl.metadata (2.6 kB)\n",
      "Requirement already satisfied: setuptools in c:\\users\\kumar\\anaconda3\\envs\\ann_project\\lib\\site-packages (from torch>=1.11.0->sentence-transformers>=2.6.0->langchain_huggingface) (72.1.0)\n",
      "Requirement already satisfied: colorama in c:\\users\\kumar\\anaconda3\\envs\\ann_project\\lib\\site-packages (from tqdm>=4.42.1->huggingface-hub>=0.23.0->langchain_huggingface) (0.4.6)\n",
      "Collecting joblib>=1.2.0 (from scikit-learn->sentence-transformers>=2.6.0->langchain_huggingface)\n",
      "  Using cached joblib-1.4.2-py3-none-any.whl.metadata (5.4 kB)\n",
      "Collecting threadpoolctl>=3.1.0 (from scikit-learn->sentence-transformers>=2.6.0->langchain_huggingface)\n",
      "  Using cached threadpoolctl-3.5.0-py3-none-any.whl.metadata (13 kB)\n",
      "Requirement already satisfied: anyio in c:\\users\\kumar\\anaconda3\\envs\\ann_project\\lib\\site-packages (from httpx<1,>=0.23.0->langsmith<0.2.0,>=0.1.125->langchain-core<0.4,>=0.3.0->langchain_huggingface) (4.6.0)\n",
      "Requirement already satisfied: httpcore==1.* in c:\\users\\kumar\\anaconda3\\envs\\ann_project\\lib\\site-packages (from httpx<1,>=0.23.0->langsmith<0.2.0,>=0.1.125->langchain-core<0.4,>=0.3.0->langchain_huggingface) (1.0.6)\n",
      "Requirement already satisfied: sniffio in c:\\users\\kumar\\anaconda3\\envs\\ann_project\\lib\\site-packages (from httpx<1,>=0.23.0->langsmith<0.2.0,>=0.1.125->langchain-core<0.4,>=0.3.0->langchain_huggingface) (1.3.1)\n",
      "Requirement already satisfied: h11<0.15,>=0.13 in c:\\users\\kumar\\anaconda3\\envs\\ann_project\\lib\\site-packages (from httpcore==1.*->httpx<1,>=0.23.0->langsmith<0.2.0,>=0.1.125->langchain-core<0.4,>=0.3.0->langchain_huggingface) (0.14.0)\n",
      "Collecting MarkupSafe>=2.0 (from jinja2->torch>=1.11.0->sentence-transformers>=2.6.0->langchain_huggingface)\n",
      "  Using cached MarkupSafe-2.1.5-cp312-cp312-win_amd64.whl.metadata (3.1 kB)\n",
      "Requirement already satisfied: mpmath<1.4,>=1.1.0 in c:\\users\\kumar\\anaconda3\\envs\\ann_project\\lib\\site-packages (from sympy->torch>=1.11.0->sentence-transformers>=2.6.0->langchain_huggingface) (1.3.0)\n",
      "Downloading langchain_huggingface-0.1.0-py3-none-any.whl (20 kB)\n",
      "Downloading sentence_transformers-3.1.1-py3-none-any.whl (245 kB)\n",
      "Downloading torch-2.4.1-cp312-cp312-win_amd64.whl (199.4 MB)\n",
      "   ---------------------------------------- 0.0/199.4 MB ? eta -:--:--\n",
      "   ---------------------------------------- 1.0/199.4 MB 6.3 MB/s eta 0:00:32\n",
      "   ---------------------------------------- 1.3/199.4 MB 5.6 MB/s eta 0:00:36\n",
      "   ---------------------------------------- 2.4/199.4 MB 3.8 MB/s eta 0:00:52\n",
      "    --------------------------------------- 2.6/199.4 MB 3.9 MB/s eta 0:00:51\n",
      "    --------------------------------------- 3.7/199.4 MB 3.5 MB/s eta 0:00:57\n",
      "    --------------------------------------- 4.2/199.4 MB 3.5 MB/s eta 0:00:56\n",
      "    --------------------------------------- 4.7/199.4 MB 3.2 MB/s eta 0:01:01\n",
      "   - -------------------------------------- 5.5/199.4 MB 3.2 MB/s eta 0:01:01\n",
      "   - -------------------------------------- 6.3/199.4 MB 3.2 MB/s eta 0:01:01\n",
      "   - -------------------------------------- 6.8/199.4 MB 3.2 MB/s eta 0:01:01\n",
      "   - -------------------------------------- 7.6/199.4 MB 3.2 MB/s eta 0:01:01\n",
      "   - -------------------------------------- 8.4/199.4 MB 3.2 MB/s eta 0:01:01\n",
      "   - -------------------------------------- 8.9/199.4 MB 3.1 MB/s eta 0:01:01\n",
      "   - -------------------------------------- 9.7/199.4 MB 3.1 MB/s eta 0:01:01\n",
      "   -- ------------------------------------- 10.2/199.4 MB 3.2 MB/s eta 0:01:00\n",
      "   -- ------------------------------------- 11.0/199.4 MB 3.1 MB/s eta 0:01:00\n",
      "   -- ------------------------------------- 11.5/199.4 MB 3.1 MB/s eta 0:01:00\n",
      "   -- ------------------------------------- 12.3/199.4 MB 3.1 MB/s eta 0:01:00\n",
      "   -- ------------------------------------- 13.1/199.4 MB 3.1 MB/s eta 0:01:00\n",
      "   -- ------------------------------------- 14.2/199.4 MB 3.2 MB/s eta 0:00:59\n",
      "   -- ------------------------------------- 14.9/199.4 MB 3.2 MB/s eta 0:00:58\n",
      "   --- ------------------------------------ 16.0/199.4 MB 3.2 MB/s eta 0:00:57\n",
      "   --- ------------------------------------ 17.0/199.4 MB 3.3 MB/s eta 0:00:56\n",
      "   --- ------------------------------------ 18.1/199.4 MB 3.4 MB/s eta 0:00:55\n",
      "   --- ------------------------------------ 18.9/199.4 MB 3.4 MB/s eta 0:00:54\n",
      "   --- ------------------------------------ 19.9/199.4 MB 3.4 MB/s eta 0:00:54\n",
      "   ---- ----------------------------------- 20.7/199.4 MB 3.4 MB/s eta 0:00:53\n",
      "   ---- ----------------------------------- 21.8/199.4 MB 3.4 MB/s eta 0:00:52\n",
      "   ---- ----------------------------------- 22.8/199.4 MB 3.4 MB/s eta 0:00:52\n",
      "   ---- ----------------------------------- 23.1/199.4 MB 3.5 MB/s eta 0:00:52\n",
      "   ---- ----------------------------------- 24.6/199.4 MB 3.5 MB/s eta 0:00:51\n",
      "   ----- ---------------------------------- 25.7/199.4 MB 3.5 MB/s eta 0:00:50\n",
      "   ----- ---------------------------------- 26.5/199.4 MB 3.5 MB/s eta 0:00:50\n",
      "   ----- ---------------------------------- 27.3/199.4 MB 3.5 MB/s eta 0:00:50\n",
      "   ----- ---------------------------------- 27.8/199.4 MB 3.5 MB/s eta 0:00:50\n",
      "   ----- ---------------------------------- 28.8/199.4 MB 3.5 MB/s eta 0:00:50\n",
      "   ----- ---------------------------------- 29.4/199.4 MB 3.4 MB/s eta 0:00:50\n",
      "   ------ --------------------------------- 30.7/199.4 MB 3.5 MB/s eta 0:00:49\n",
      "   ------ --------------------------------- 31.5/199.4 MB 3.5 MB/s eta 0:00:49\n",
      "   ------ --------------------------------- 32.2/199.4 MB 3.5 MB/s eta 0:00:49\n",
      "   ------ --------------------------------- 32.8/199.4 MB 3.4 MB/s eta 0:00:49\n",
      "   ------ --------------------------------- 33.8/199.4 MB 3.4 MB/s eta 0:00:49\n",
      "   ------ --------------------------------- 34.6/199.4 MB 3.4 MB/s eta 0:00:48\n",
      "   ------- -------------------------------- 35.7/199.4 MB 3.4 MB/s eta 0:00:48\n",
      "   ------- -------------------------------- 36.4/199.4 MB 3.5 MB/s eta 0:00:48\n",
      "   ------- -------------------------------- 37.5/199.4 MB 3.5 MB/s eta 0:00:47\n",
      "   ------- -------------------------------- 38.5/199.4 MB 3.5 MB/s eta 0:00:47\n",
      "   ------- -------------------------------- 39.3/199.4 MB 3.5 MB/s eta 0:00:47\n",
      "   -------- ------------------------------- 40.1/199.4 MB 3.5 MB/s eta 0:00:46\n",
      "   -------- ------------------------------- 41.2/199.4 MB 3.5 MB/s eta 0:00:46\n",
      "   -------- ------------------------------- 42.2/199.4 MB 3.5 MB/s eta 0:00:45\n",
      "   -------- ------------------------------- 43.3/199.4 MB 3.5 MB/s eta 0:00:45\n",
      "   -------- ------------------------------- 44.3/199.4 MB 3.5 MB/s eta 0:00:45\n",
      "   --------- ------------------------------ 45.1/199.4 MB 3.5 MB/s eta 0:00:44\n",
      "   --------- ------------------------------ 46.1/199.4 MB 3.5 MB/s eta 0:00:44\n",
      "   --------- ------------------------------ 46.9/199.4 MB 3.5 MB/s eta 0:00:44\n",
      "   --------- ------------------------------ 47.2/199.4 MB 3.5 MB/s eta 0:00:44\n",
      "   --------- ------------------------------ 47.7/199.4 MB 3.5 MB/s eta 0:00:44\n",
      "   --------- ------------------------------ 48.8/199.4 MB 3.5 MB/s eta 0:00:44\n",
      "   ---------- ----------------------------- 50.1/199.4 MB 3.5 MB/s eta 0:00:43\n",
      "   ---------- ----------------------------- 50.9/199.4 MB 3.5 MB/s eta 0:00:43\n",
      "   ---------- ----------------------------- 51.9/199.4 MB 3.5 MB/s eta 0:00:42\n",
      "   ---------- ----------------------------- 52.7/199.4 MB 3.5 MB/s eta 0:00:42\n",
      "   ---------- ----------------------------- 53.7/199.4 MB 3.5 MB/s eta 0:00:42\n",
      "   ---------- ----------------------------- 54.5/199.4 MB 3.5 MB/s eta 0:00:41\n",
      "   ----------- ---------------------------- 55.6/199.4 MB 3.5 MB/s eta 0:00:41\n",
      "   ----------- ---------------------------- 56.4/199.4 MB 3.6 MB/s eta 0:00:41\n",
      "   ----------- ---------------------------- 57.1/199.4 MB 3.6 MB/s eta 0:00:41\n",
      "   ----------- ---------------------------- 57.9/199.4 MB 3.6 MB/s eta 0:00:40\n",
      "   ----------- ---------------------------- 59.0/199.4 MB 3.6 MB/s eta 0:00:40\n",
      "   ----------- ---------------------------- 59.8/199.4 MB 3.6 MB/s eta 0:00:40\n",
      "   ------------ --------------------------- 60.8/199.4 MB 3.6 MB/s eta 0:00:39\n",
      "   ------------ --------------------------- 61.6/199.4 MB 3.6 MB/s eta 0:00:39\n",
      "   ------------ --------------------------- 62.4/199.4 MB 3.6 MB/s eta 0:00:39\n",
      "   ------------ --------------------------- 63.4/199.4 MB 3.6 MB/s eta 0:00:38\n",
      "   ------------ --------------------------- 64.5/199.4 MB 3.6 MB/s eta 0:00:38\n",
      "   ------------- -------------------------- 65.3/199.4 MB 3.6 MB/s eta 0:00:38\n",
      "   ------------- -------------------------- 66.3/199.4 MB 3.6 MB/s eta 0:00:38\n",
      "   ------------- -------------------------- 67.4/199.4 MB 3.6 MB/s eta 0:00:37\n",
      "   ------------- -------------------------- 67.9/199.4 MB 3.6 MB/s eta 0:00:37\n",
      "   ------------- -------------------------- 69.2/199.4 MB 3.6 MB/s eta 0:00:37\n",
      "   -------------- ------------------------- 70.3/199.4 MB 3.6 MB/s eta 0:00:36\n",
      "   -------------- ------------------------- 70.8/199.4 MB 3.6 MB/s eta 0:00:36\n",
      "   -------------- ------------------------- 71.3/199.4 MB 3.6 MB/s eta 0:00:36\n",
      "   -------------- ------------------------- 72.6/199.4 MB 3.6 MB/s eta 0:00:36\n",
      "   -------------- ------------------------- 73.4/199.4 MB 3.6 MB/s eta 0:00:36\n",
      "   -------------- ------------------------- 74.2/199.4 MB 3.6 MB/s eta 0:00:35\n",
      "   --------------- ------------------------ 75.0/199.4 MB 3.6 MB/s eta 0:00:35\n",
      "   --------------- ------------------------ 75.8/199.4 MB 3.6 MB/s eta 0:00:35\n",
      "   --------------- ------------------------ 76.5/199.4 MB 3.6 MB/s eta 0:00:35\n",
      "   --------------- ------------------------ 77.3/199.4 MB 3.6 MB/s eta 0:00:35\n",
      "   --------------- ------------------------ 78.1/199.4 MB 3.6 MB/s eta 0:00:34\n",
      "   --------------- ------------------------ 78.9/199.4 MB 3.6 MB/s eta 0:00:34\n",
      "   --------------- ------------------------ 79.4/199.4 MB 3.6 MB/s eta 0:00:34\n",
      "   ---------------- ----------------------- 80.2/199.4 MB 3.6 MB/s eta 0:00:34\n",
      "   ---------------- ----------------------- 81.0/199.4 MB 3.6 MB/s eta 0:00:34\n",
      "   ---------------- ----------------------- 81.8/199.4 MB 3.6 MB/s eta 0:00:33\n",
      "   ---------------- ----------------------- 82.6/199.4 MB 3.6 MB/s eta 0:00:33\n",
      "   ---------------- ----------------------- 83.4/199.4 MB 3.6 MB/s eta 0:00:33\n",
      "   ---------------- ----------------------- 84.1/199.4 MB 3.6 MB/s eta 0:00:33\n",
      "   ----------------- ---------------------- 84.9/199.4 MB 3.6 MB/s eta 0:00:33\n",
      "   ----------------- ---------------------- 84.9/199.4 MB 3.6 MB/s eta 0:00:33\n",
      "   ----------------- ---------------------- 86.0/199.4 MB 3.5 MB/s eta 0:00:33\n",
      "   ----------------- ---------------------- 87.0/199.4 MB 3.6 MB/s eta 0:00:32\n",
      "   ----------------- ---------------------- 87.8/199.4 MB 3.6 MB/s eta 0:00:32\n",
      "   ----------------- ---------------------- 88.3/199.4 MB 3.6 MB/s eta 0:00:32\n",
      "   ----------------- ---------------------- 89.7/199.4 MB 3.6 MB/s eta 0:00:31\n",
      "   ------------------ --------------------- 89.9/199.4 MB 3.6 MB/s eta 0:00:31\n",
      "   ------------------ --------------------- 91.2/199.4 MB 3.6 MB/s eta 0:00:31\n",
      "   ------------------ --------------------- 91.2/199.4 MB 3.6 MB/s eta 0:00:31\n",
      "   ------------------ --------------------- 91.8/199.4 MB 3.5 MB/s eta 0:00:31\n",
      "   ------------------ --------------------- 93.8/199.4 MB 3.6 MB/s eta 0:00:30\n",
      "   ------------------ --------------------- 94.6/199.4 MB 3.6 MB/s eta 0:00:30\n",
      "   ------------------- -------------------- 95.4/199.4 MB 3.6 MB/s eta 0:00:30\n",
      "   ------------------- -------------------- 96.2/199.4 MB 3.6 MB/s eta 0:00:29\n",
      "   ------------------- -------------------- 97.0/199.4 MB 3.6 MB/s eta 0:00:29\n",
      "   ------------------- -------------------- 97.8/199.4 MB 3.6 MB/s eta 0:00:29\n",
      "   ------------------- -------------------- 98.6/199.4 MB 3.6 MB/s eta 0:00:29\n",
      "   ------------------- -------------------- 99.6/199.4 MB 3.6 MB/s eta 0:00:28\n",
      "   -------------------- ------------------- 100.4/199.4 MB 3.6 MB/s eta 0:00:28\n",
      "   -------------------- ------------------- 100.9/199.4 MB 3.6 MB/s eta 0:00:28\n",
      "   -------------------- ------------------- 101.7/199.4 MB 3.6 MB/s eta 0:00:28\n",
      "   -------------------- ------------------- 102.2/199.4 MB 3.6 MB/s eta 0:00:28\n",
      "   -------------------- ------------------- 103.0/199.4 MB 3.6 MB/s eta 0:00:28\n",
      "   -------------------- ------------------- 103.5/199.4 MB 3.6 MB/s eta 0:00:27\n",
      "   -------------------- ------------------- 104.3/199.4 MB 3.6 MB/s eta 0:00:27\n",
      "   --------------------- ------------------ 105.1/199.4 MB 3.6 MB/s eta 0:00:27\n",
      "   --------------------- ------------------ 105.6/199.4 MB 3.5 MB/s eta 0:00:27\n",
      "   --------------------- ------------------ 106.4/199.4 MB 3.5 MB/s eta 0:00:27\n",
      "   --------------------- ------------------ 107.2/199.4 MB 3.5 MB/s eta 0:00:27\n",
      "   --------------------- ------------------ 108.0/199.4 MB 3.5 MB/s eta 0:00:26\n",
      "   --------------------- ------------------ 108.8/199.4 MB 3.5 MB/s eta 0:00:26\n",
      "   --------------------- ------------------ 109.6/199.4 MB 3.6 MB/s eta 0:00:26\n",
      "   ---------------------- ----------------- 110.4/199.4 MB 3.5 MB/s eta 0:00:26\n",
      "   ---------------------- ----------------- 111.1/199.4 MB 3.6 MB/s eta 0:00:25\n",
      "   ---------------------- ----------------- 111.7/199.4 MB 3.6 MB/s eta 0:00:25\n",
      "   ---------------------- ----------------- 112.2/199.4 MB 3.6 MB/s eta 0:00:25\n",
      "   ---------------------- ----------------- 113.2/199.4 MB 3.6 MB/s eta 0:00:25\n",
      "   ---------------------- ----------------- 114.0/199.4 MB 3.6 MB/s eta 0:00:24\n",
      "   ---------------------- ----------------- 114.6/199.4 MB 3.6 MB/s eta 0:00:24\n",
      "   ----------------------- ---------------- 115.3/199.4 MB 3.6 MB/s eta 0:00:24\n",
      "   ----------------------- ---------------- 116.1/199.4 MB 3.6 MB/s eta 0:00:24\n",
      "   ----------------------- ---------------- 116.7/199.4 MB 3.6 MB/s eta 0:00:24\n",
      "   ----------------------- ---------------- 117.4/199.4 MB 3.6 MB/s eta 0:00:23\n",
      "   ----------------------- ---------------- 118.2/199.4 MB 3.6 MB/s eta 0:00:23\n",
      "   ----------------------- ---------------- 118.8/199.4 MB 3.6 MB/s eta 0:00:23\n",
      "   ----------------------- ---------------- 119.5/199.4 MB 3.6 MB/s eta 0:00:23\n",
      "   ------------------------ --------------- 120.3/199.4 MB 3.6 MB/s eta 0:00:23\n",
      "   ------------------------ --------------- 120.3/199.4 MB 3.6 MB/s eta 0:00:23\n",
      "   ------------------------ --------------- 120.8/199.4 MB 3.5 MB/s eta 0:00:23\n",
      "   ------------------------ --------------- 121.9/199.4 MB 3.5 MB/s eta 0:00:22\n",
      "   ------------------------ --------------- 122.7/199.4 MB 3.5 MB/s eta 0:00:22\n",
      "   ------------------------ --------------- 123.5/199.4 MB 3.5 MB/s eta 0:00:22\n",
      "   ------------------------ --------------- 124.3/199.4 MB 3.5 MB/s eta 0:00:22\n",
      "   ------------------------- -------------- 125.0/199.4 MB 3.6 MB/s eta 0:00:21\n",
      "   ------------------------- -------------- 125.8/199.4 MB 3.6 MB/s eta 0:00:21\n",
      "   ------------------------- -------------- 126.9/199.4 MB 3.5 MB/s eta 0:00:21\n",
      "   ------------------------- -------------- 127.7/199.4 MB 3.5 MB/s eta 0:00:21\n",
      "   ------------------------- -------------- 128.5/199.4 MB 3.6 MB/s eta 0:00:20\n",
      "   ------------------------- -------------- 129.2/199.4 MB 3.5 MB/s eta 0:00:20\n",
      "   -------------------------- ------------- 130.0/199.4 MB 3.5 MB/s eta 0:00:20\n",
      "   -------------------------- ------------- 130.8/199.4 MB 3.5 MB/s eta 0:00:20\n",
      "   -------------------------- ------------- 131.9/199.4 MB 3.5 MB/s eta 0:00:20\n",
      "   -------------------------- ------------- 132.6/199.4 MB 3.5 MB/s eta 0:00:19\n",
      "   -------------------------- ------------- 133.2/199.4 MB 3.5 MB/s eta 0:00:19\n",
      "   -------------------------- ------------- 134.2/199.4 MB 3.6 MB/s eta 0:00:19\n",
      "   --------------------------- ------------ 135.0/199.4 MB 3.5 MB/s eta 0:00:19\n",
      "   --------------------------- ------------ 135.5/199.4 MB 3.6 MB/s eta 0:00:18\n",
      "   --------------------------- ------------ 136.6/199.4 MB 3.6 MB/s eta 0:00:18\n",
      "   --------------------------- ------------ 137.1/199.4 MB 3.6 MB/s eta 0:00:18\n",
      "   --------------------------- ------------ 138.1/199.4 MB 3.6 MB/s eta 0:00:18\n",
      "   --------------------------- ------------ 138.9/199.4 MB 3.6 MB/s eta 0:00:17\n",
      "   ---------------------------- ----------- 139.7/199.4 MB 3.6 MB/s eta 0:00:17\n",
      "   ---------------------------- ----------- 140.5/199.4 MB 3.6 MB/s eta 0:00:17\n",
      "   ---------------------------- ----------- 141.3/199.4 MB 3.6 MB/s eta 0:00:17\n",
      "   ---------------------------- ----------- 142.1/199.4 MB 3.6 MB/s eta 0:00:17\n",
      "   ---------------------------- ----------- 142.9/199.4 MB 3.6 MB/s eta 0:00:16\n",
      "   ---------------------------- ----------- 143.7/199.4 MB 3.6 MB/s eta 0:00:16\n",
      "   ---------------------------- ----------- 144.4/199.4 MB 3.6 MB/s eta 0:00:16\n",
      "   ----------------------------- ---------- 145.5/199.4 MB 3.6 MB/s eta 0:00:16\n",
      "   ----------------------------- ---------- 146.3/199.4 MB 3.6 MB/s eta 0:00:15\n",
      "   ----------------------------- ---------- 147.1/199.4 MB 3.6 MB/s eta 0:00:15\n",
      "   ----------------------------- ---------- 148.4/199.4 MB 3.6 MB/s eta 0:00:15\n",
      "   ----------------------------- ---------- 149.4/199.4 MB 3.6 MB/s eta 0:00:15\n",
      "   ------------------------------ --------- 150.2/199.4 MB 3.6 MB/s eta 0:00:14\n",
      "   ------------------------------ --------- 151.0/199.4 MB 3.6 MB/s eta 0:00:14\n",
      "   ------------------------------ --------- 152.0/199.4 MB 3.6 MB/s eta 0:00:14\n",
      "   ------------------------------ --------- 152.8/199.4 MB 3.6 MB/s eta 0:00:14\n",
      "   ------------------------------ --------- 153.6/199.4 MB 3.6 MB/s eta 0:00:13\n",
      "   ------------------------------- -------- 154.7/199.4 MB 3.6 MB/s eta 0:00:13\n",
      "   ------------------------------- -------- 155.7/199.4 MB 3.6 MB/s eta 0:00:13\n",
      "   ------------------------------- -------- 156.5/199.4 MB 3.6 MB/s eta 0:00:13\n",
      "   ------------------------------- -------- 157.3/199.4 MB 3.6 MB/s eta 0:00:12\n",
      "   ------------------------------- -------- 157.8/199.4 MB 3.6 MB/s eta 0:00:12\n",
      "   ------------------------------- -------- 158.3/199.4 MB 3.6 MB/s eta 0:00:12\n",
      "   ------------------------------- -------- 158.9/199.4 MB 3.5 MB/s eta 0:00:12\n",
      "   -------------------------------- ------- 160.2/199.4 MB 3.5 MB/s eta 0:00:12\n",
      "   -------------------------------- ------- 161.0/199.4 MB 3.5 MB/s eta 0:00:11\n",
      "   -------------------------------- ------- 162.3/199.4 MB 3.5 MB/s eta 0:00:11\n",
      "   -------------------------------- ------- 162.5/199.4 MB 3.5 MB/s eta 0:00:11\n",
      "   -------------------------------- ------- 164.4/199.4 MB 3.5 MB/s eta 0:00:10\n",
      "   --------------------------------- ------ 165.2/199.4 MB 3.5 MB/s eta 0:00:10\n",
      "   --------------------------------- ------ 166.2/199.4 MB 3.5 MB/s eta 0:00:10\n",
      "   --------------------------------- ------ 167.2/199.4 MB 3.5 MB/s eta 0:00:10\n",
      "   --------------------------------- ------ 167.2/199.4 MB 3.5 MB/s eta 0:00:10\n",
      "   --------------------------------- ------ 168.6/199.4 MB 3.5 MB/s eta 0:00:09\n",
      "   ---------------------------------- ----- 170.4/199.4 MB 3.5 MB/s eta 0:00:09\n",
      "   ---------------------------------- ----- 171.2/199.4 MB 3.5 MB/s eta 0:00:09\n",
      "   ---------------------------------- ----- 172.5/199.4 MB 3.5 MB/s eta 0:00:08\n",
      "   ---------------------------------- ----- 173.3/199.4 MB 3.5 MB/s eta 0:00:08\n",
      "   ---------------------------------- ----- 174.3/199.4 MB 3.5 MB/s eta 0:00:08\n",
      "   ----------------------------------- ---- 175.4/199.4 MB 3.5 MB/s eta 0:00:07\n",
      "   ----------------------------------- ---- 175.6/199.4 MB 3.5 MB/s eta 0:00:07\n",
      "   ----------------------------------- ---- 176.2/199.4 MB 3.5 MB/s eta 0:00:07\n",
      "   ----------------------------------- ---- 178.0/199.4 MB 3.5 MB/s eta 0:00:07\n",
      "   ----------------------------------- ---- 178.3/199.4 MB 3.5 MB/s eta 0:00:07\n",
      "   ------------------------------------ --- 179.6/199.4 MB 3.5 MB/s eta 0:00:06\n",
      "   ------------------------------------ --- 180.6/199.4 MB 3.5 MB/s eta 0:00:06\n",
      "   ------------------------------------ --- 181.1/199.4 MB 3.5 MB/s eta 0:00:06\n",
      "   ------------------------------------ --- 182.5/199.4 MB 3.5 MB/s eta 0:00:05\n",
      "   ------------------------------------ --- 183.2/199.4 MB 3.5 MB/s eta 0:00:05\n",
      "   ------------------------------------- -- 184.5/199.4 MB 3.5 MB/s eta 0:00:05\n",
      "   ------------------------------------- -- 185.3/199.4 MB 3.5 MB/s eta 0:00:05\n",
      "   ------------------------------------- -- 186.1/199.4 MB 3.5 MB/s eta 0:00:04\n",
      "   ------------------------------------- -- 186.9/199.4 MB 3.5 MB/s eta 0:00:04\n",
      "   ------------------------------------- -- 187.7/199.4 MB 3.5 MB/s eta 0:00:04\n",
      "   ------------------------------------- -- 188.7/199.4 MB 3.5 MB/s eta 0:00:04\n",
      "   -------------------------------------- - 189.5/199.4 MB 3.5 MB/s eta 0:00:03\n",
      "   -------------------------------------- - 190.3/199.4 MB 3.5 MB/s eta 0:00:03\n",
      "   -------------------------------------- - 191.4/199.4 MB 3.5 MB/s eta 0:00:03\n",
      "   -------------------------------------- - 192.2/199.4 MB 3.5 MB/s eta 0:00:03\n",
      "   -------------------------------------- - 192.9/199.4 MB 3.5 MB/s eta 0:00:02\n",
      "   -------------------------------------- - 193.7/199.4 MB 3.5 MB/s eta 0:00:02\n",
      "   ---------------------------------------  194.8/199.4 MB 3.5 MB/s eta 0:00:02\n",
      "   ---------------------------------------  195.6/199.4 MB 3.5 MB/s eta 0:00:02\n",
      "   ---------------------------------------  196.6/199.4 MB 3.5 MB/s eta 0:00:01\n",
      "   ---------------------------------------  197.1/199.4 MB 3.5 MB/s eta 0:00:01\n",
      "   ---------------------------------------  197.9/199.4 MB 3.5 MB/s eta 0:00:01\n",
      "   ---------------------------------------  197.9/199.4 MB 3.5 MB/s eta 0:00:01\n",
      "   ---------------------------------------  198.4/199.4 MB 3.5 MB/s eta 0:00:01\n",
      "   ---------------------------------------  198.7/199.4 MB 3.4 MB/s eta 0:00:01\n",
      "   ---------------------------------------  199.2/199.4 MB 3.4 MB/s eta 0:00:01\n",
      "   ---------------------------------------  199.2/199.4 MB 3.4 MB/s eta 0:00:01\n",
      "   ---------------------------------------  199.2/199.4 MB 3.4 MB/s eta 0:00:01\n",
      "   ---------------------------------------  199.2/199.4 MB 3.4 MB/s eta 0:00:01\n",
      "   ---------------------------------------  199.2/199.4 MB 3.4 MB/s eta 0:00:01\n",
      "   ---------------------------------------  199.2/199.4 MB 3.4 MB/s eta 0:00:01\n",
      "   ---------------------------------------- 199.4/199.4 MB 3.3 MB/s eta 0:00:00\n",
      "Downloading pillow-10.4.0-cp312-cp312-win_amd64.whl (2.6 MB)\n",
      "   ---------------------------------------- 0.0/2.6 MB ? eta -:--:--\n",
      "   ---------------- ----------------------- 1.0/2.6 MB 4.6 MB/s eta 0:00:01\n",
      "   -------------------------------- ------- 2.1/2.6 MB 4.5 MB/s eta 0:00:01\n",
      "   ---------------------------------------- 2.6/2.6 MB 4.2 MB/s eta 0:00:00\n",
      "Downloading scikit_learn-1.5.2-cp312-cp312-win_amd64.whl (11.0 MB)\n",
      "   ---------------------------------------- 0.0/11.0 MB ? eta -:--:--\n",
      "   ------ --------------------------------- 1.8/11.0 MB 5.9 MB/s eta 0:00:02\n",
      "   ------- -------------------------------- 2.1/11.0 MB 5.6 MB/s eta 0:00:02\n",
      "   ------------ --------------------------- 3.4/11.0 MB 4.1 MB/s eta 0:00:02\n",
      "   ---------------- ----------------------- 4.5/11.0 MB 4.0 MB/s eta 0:00:02\n",
      "   -------------------- ------------------- 5.5/11.0 MB 4.0 MB/s eta 0:00:02\n",
      "   ----------------------- ---------------- 6.6/11.0 MB 3.9 MB/s eta 0:00:02\n",
      "   --------------------------- ------------ 7.6/11.0 MB 3.9 MB/s eta 0:00:01\n",
      "   -------------------------------- ------- 8.9/11.0 MB 3.9 MB/s eta 0:00:01\n",
      "   ------------------------------------- -- 10.2/11.0 MB 3.9 MB/s eta 0:00:01\n",
      "   ---------------------------------------- 11.0/11.0 MB 3.8 MB/s eta 0:00:00\n",
      "Downloading scipy-1.14.1-cp312-cp312-win_amd64.whl (44.5 MB)\n",
      "   ---------------------------------------- 0.0/44.5 MB ? eta -:--:--\n",
      "    --------------------------------------- 1.0/44.5 MB 3.3 MB/s eta 0:00:13\n",
      "   - -------------------------------------- 2.1/44.5 MB 3.6 MB/s eta 0:00:12\n",
      "   -- ------------------------------------- 2.6/44.5 MB 3.2 MB/s eta 0:00:14\n",
      "   -- ------------------------------------- 2.6/44.5 MB 3.2 MB/s eta 0:00:14\n",
      "   --- ------------------------------------ 3.7/44.5 MB 2.2 MB/s eta 0:00:19\n",
      "   --- ------------------------------------ 4.2/44.5 MB 2.3 MB/s eta 0:00:18\n",
      "   ---- ----------------------------------- 5.2/44.5 MB 2.5 MB/s eta 0:00:16\n",
      "   ----- ---------------------------------- 5.8/44.5 MB 2.4 MB/s eta 0:00:16\n",
      "   ----- ---------------------------------- 6.3/44.5 MB 2.4 MB/s eta 0:00:16\n",
      "   ----- ---------------------------------- 6.6/44.5 MB 2.4 MB/s eta 0:00:16\n",
      "   ------- -------------------------------- 7.9/44.5 MB 2.5 MB/s eta 0:00:15\n",
      "   -------- ------------------------------- 8.9/44.5 MB 2.6 MB/s eta 0:00:14\n",
      "   -------- ------------------------------- 9.4/44.5 MB 2.5 MB/s eta 0:00:14\n",
      "   --------- ------------------------------ 10.2/44.5 MB 2.5 MB/s eta 0:00:14\n",
      "   --------- ------------------------------ 10.7/44.5 MB 2.5 MB/s eta 0:00:14\n",
      "   ---------- ----------------------------- 11.5/44.5 MB 2.5 MB/s eta 0:00:14\n",
      "   ---------- ----------------------------- 12.1/44.5 MB 2.5 MB/s eta 0:00:14\n",
      "   ----------- ---------------------------- 13.1/44.5 MB 2.5 MB/s eta 0:00:13\n",
      "   ------------ --------------------------- 13.4/44.5 MB 2.5 MB/s eta 0:00:13\n",
      "   ------------- -------------------------- 14.9/44.5 MB 2.6 MB/s eta 0:00:12\n",
      "   -------------- ------------------------- 15.7/44.5 MB 2.7 MB/s eta 0:00:11\n",
      "   --------------- ------------------------ 16.8/44.5 MB 2.7 MB/s eta 0:00:11\n",
      "   ---------------- ----------------------- 17.8/44.5 MB 2.8 MB/s eta 0:00:10\n",
      "   ----------------- ---------------------- 19.1/44.5 MB 2.9 MB/s eta 0:00:09\n",
      "   ----------------- ---------------------- 19.4/44.5 MB 2.9 MB/s eta 0:00:09\n",
      "   ----------------- ---------------------- 19.7/44.5 MB 2.7 MB/s eta 0:00:10\n",
      "   ------------------ --------------------- 20.4/44.5 MB 2.7 MB/s eta 0:00:09\n",
      "   ------------------- -------------------- 21.2/44.5 MB 2.7 MB/s eta 0:00:09\n",
      "   -------------------- ------------------- 22.5/44.5 MB 2.8 MB/s eta 0:00:08\n",
      "   --------------------- ------------------ 23.6/44.5 MB 2.8 MB/s eta 0:00:08\n",
      "   --------------------- ------------------ 24.4/44.5 MB 2.8 MB/s eta 0:00:08\n",
      "   --------------------- ------------------ 24.4/44.5 MB 2.8 MB/s eta 0:00:08\n",
      "   ----------------------- ---------------- 26.0/44.5 MB 2.8 MB/s eta 0:00:07\n",
      "   ----------------------- ---------------- 26.2/44.5 MB 2.8 MB/s eta 0:00:07\n",
      "   ------------------------ --------------- 27.0/44.5 MB 2.8 MB/s eta 0:00:07\n",
      "   ------------------------- -------------- 28.0/44.5 MB 2.9 MB/s eta 0:00:06\n",
      "   -------------------------- ------------- 29.1/44.5 MB 2.9 MB/s eta 0:00:06\n",
      "   --------------------------- ------------ 30.1/44.5 MB 2.9 MB/s eta 0:00:05\n",
      "   --------------------------- ------------ 30.7/44.5 MB 2.9 MB/s eta 0:00:05\n",
      "   ---------------------------- ----------- 31.5/44.5 MB 2.9 MB/s eta 0:00:05\n",
      "   ---------------------------- ----------- 32.2/44.5 MB 2.9 MB/s eta 0:00:05\n",
      "   ----------------------------- ---------- 33.0/44.5 MB 2.9 MB/s eta 0:00:04\n",
      "   ------------------------------ --------- 33.8/44.5 MB 2.9 MB/s eta 0:00:04\n",
      "   ------------------------------- -------- 34.6/44.5 MB 2.9 MB/s eta 0:00:04\n",
      "   ------------------------------- -------- 35.1/44.5 MB 2.9 MB/s eta 0:00:04\n",
      "   -------------------------------- ------- 35.9/44.5 MB 2.9 MB/s eta 0:00:03\n",
      "   -------------------------------- ------- 36.7/44.5 MB 2.9 MB/s eta 0:00:03\n",
      "   --------------------------------- ------ 37.2/44.5 MB 2.9 MB/s eta 0:00:03\n",
      "   --------------------------------- ------ 37.7/44.5 MB 2.9 MB/s eta 0:00:03\n",
      "   ---------------------------------- ----- 38.3/44.5 MB 2.9 MB/s eta 0:00:03\n",
      "   ----------------------------------- ---- 39.1/44.5 MB 2.9 MB/s eta 0:00:02\n",
      "   ----------------------------------- ---- 39.8/44.5 MB 2.9 MB/s eta 0:00:02\n",
      "   ------------------------------------ --- 40.4/44.5 MB 2.9 MB/s eta 0:00:02\n",
      "   ------------------------------------ --- 41.2/44.5 MB 2.9 MB/s eta 0:00:02\n",
      "   ------------------------------------- -- 41.9/44.5 MB 2.9 MB/s eta 0:00:01\n",
      "   -------------------------------------- - 42.5/44.5 MB 2.9 MB/s eta 0:00:01\n",
      "   -------------------------------------- - 43.3/44.5 MB 3.0 MB/s eta 0:00:01\n",
      "   ---------------------------------------  43.8/44.5 MB 3.0 MB/s eta 0:00:01\n",
      "   ---------------------------------------  44.0/44.5 MB 2.9 MB/s eta 0:00:01\n",
      "   ---------------------------------------  44.0/44.5 MB 2.9 MB/s eta 0:00:01\n",
      "   ---------------------------------------  44.3/44.5 MB 2.9 MB/s eta 0:00:01\n",
      "   ---------------------------------------- 44.5/44.5 MB 2.8 MB/s eta 0:00:00\n",
      "Using cached joblib-1.4.2-py3-none-any.whl (301 kB)\n",
      "Using cached threadpoolctl-3.5.0-py3-none-any.whl (18 kB)\n",
      "Downloading jinja2-3.1.4-py3-none-any.whl (133 kB)\n",
      "Downloading networkx-3.3-py3-none-any.whl (1.7 MB)\n",
      "   ---------------------------------------- 0.0/1.7 MB ? eta -:--:--\n",
      "   ------------ --------------------------- 0.5/1.7 MB 2.8 MB/s eta 0:00:01\n",
      "   ------------------------------ --------- 1.3/1.7 MB 3.2 MB/s eta 0:00:01\n",
      "   ---------------------------------------- 1.7/1.7 MB 3.2 MB/s eta 0:00:00\n",
      "Using cached MarkupSafe-2.1.5-cp312-cp312-win_amd64.whl (17 kB)\n",
      "Installing collected packages: threadpoolctl, scipy, Pillow, networkx, MarkupSafe, joblib, scikit-learn, jinja2, torch, sentence-transformers, langchain_huggingface\n",
      "Successfully installed MarkupSafe-2.1.5 Pillow-10.4.0 jinja2-3.1.4 joblib-1.4.2 langchain_huggingface-0.1.0 networkx-3.3 scikit-learn-1.5.2 scipy-1.14.1 sentence-transformers-3.1.1 threadpoolctl-3.5.0 torch-2.4.1\n"
     ]
    }
   ],
   "source": [
    "!pip install langchain_huggingface"
   ]
  },
  {
   "cell_type": "code",
   "execution_count": 15,
   "metadata": {},
   "outputs": [],
   "source": [
    "from langchain_huggingface import HuggingFaceEmbeddings"
   ]
  },
  {
   "cell_type": "code",
   "execution_count": 16,
   "metadata": {},
   "outputs": [
    {
     "name": "stderr",
     "output_type": "stream",
     "text": [
      "c:\\Users\\kumar\\anaconda3\\envs\\ann_project\\Lib\\site-packages\\transformers\\tokenization_utils_base.py:1617: FutureWarning: `clean_up_tokenization_spaces` was not set. It will be set to `True` by default. This behavior will be deprecated in transformers v4.45, and will be then set to `False` by default. For more details check this issue: https://github.com/huggingface/transformers/issues/31884\n",
      "  warnings.warn(\n"
     ]
    }
   ],
   "source": [
    "embedding = HuggingFaceEmbeddings(model_name = \"all-MiniLM-L6-v2\")"
   ]
  },
  {
   "cell_type": "code",
   "execution_count": 57,
   "metadata": {},
   "outputs": [
    {
     "name": "stdout",
     "output_type": "stream",
     "text": [
      "Requirement already satisfied: sentence-transformers in c:\\users\\kumar\\anaconda3\\envs\\ann_project\\lib\\site-packages (3.1.1)\n",
      "Requirement already satisfied: transformers<5.0.0,>=4.38.0 in c:\\users\\kumar\\anaconda3\\envs\\ann_project\\lib\\site-packages (from sentence-transformers) (4.45.1)\n",
      "Requirement already satisfied: tqdm in c:\\users\\kumar\\anaconda3\\envs\\ann_project\\lib\\site-packages (from sentence-transformers) (4.66.5)\n",
      "Requirement already satisfied: torch>=1.11.0 in c:\\users\\kumar\\anaconda3\\envs\\ann_project\\lib\\site-packages (from sentence-transformers) (2.4.1)\n",
      "Requirement already satisfied: scikit-learn in c:\\users\\kumar\\anaconda3\\envs\\ann_project\\lib\\site-packages (from sentence-transformers) (1.5.2)\n",
      "Requirement already satisfied: scipy in c:\\users\\kumar\\anaconda3\\envs\\ann_project\\lib\\site-packages (from sentence-transformers) (1.14.1)\n",
      "Requirement already satisfied: huggingface-hub>=0.19.3 in c:\\users\\kumar\\anaconda3\\envs\\ann_project\\lib\\site-packages (from sentence-transformers) (0.25.1)\n",
      "Requirement already satisfied: Pillow in c:\\users\\kumar\\anaconda3\\envs\\ann_project\\lib\\site-packages (from sentence-transformers) (10.4.0)\n",
      "Requirement already satisfied: filelock in c:\\users\\kumar\\anaconda3\\envs\\ann_project\\lib\\site-packages (from huggingface-hub>=0.19.3->sentence-transformers) (3.16.1)\n",
      "Requirement already satisfied: fsspec>=2023.5.0 in c:\\users\\kumar\\anaconda3\\envs\\ann_project\\lib\\site-packages (from huggingface-hub>=0.19.3->sentence-transformers) (2024.9.0)\n",
      "Requirement already satisfied: packaging>=20.9 in c:\\users\\kumar\\anaconda3\\envs\\ann_project\\lib\\site-packages (from huggingface-hub>=0.19.3->sentence-transformers) (24.1)\n",
      "Requirement already satisfied: pyyaml>=5.1 in c:\\users\\kumar\\anaconda3\\envs\\ann_project\\lib\\site-packages (from huggingface-hub>=0.19.3->sentence-transformers) (6.0.2)\n",
      "Requirement already satisfied: requests in c:\\users\\kumar\\anaconda3\\envs\\ann_project\\lib\\site-packages (from huggingface-hub>=0.19.3->sentence-transformers) (2.32.3)\n",
      "Requirement already satisfied: typing-extensions>=3.7.4.3 in c:\\users\\kumar\\anaconda3\\envs\\ann_project\\lib\\site-packages (from huggingface-hub>=0.19.3->sentence-transformers) (4.12.2)\n",
      "Requirement already satisfied: sympy in c:\\users\\kumar\\anaconda3\\envs\\ann_project\\lib\\site-packages (from torch>=1.11.0->sentence-transformers) (1.13.3)\n",
      "Requirement already satisfied: networkx in c:\\users\\kumar\\anaconda3\\envs\\ann_project\\lib\\site-packages (from torch>=1.11.0->sentence-transformers) (3.3)\n",
      "Requirement already satisfied: jinja2 in c:\\users\\kumar\\anaconda3\\envs\\ann_project\\lib\\site-packages (from torch>=1.11.0->sentence-transformers) (3.1.4)\n",
      "Requirement already satisfied: setuptools in c:\\users\\kumar\\anaconda3\\envs\\ann_project\\lib\\site-packages (from torch>=1.11.0->sentence-transformers) (72.1.0)\n",
      "Requirement already satisfied: colorama in c:\\users\\kumar\\anaconda3\\envs\\ann_project\\lib\\site-packages (from tqdm->sentence-transformers) (0.4.6)\n",
      "Requirement already satisfied: numpy>=1.17 in c:\\users\\kumar\\anaconda3\\envs\\ann_project\\lib\\site-packages (from transformers<5.0.0,>=4.38.0->sentence-transformers) (1.26.4)\n",
      "Requirement already satisfied: regex!=2019.12.17 in c:\\users\\kumar\\anaconda3\\envs\\ann_project\\lib\\site-packages (from transformers<5.0.0,>=4.38.0->sentence-transformers) (2024.9.11)\n",
      "Requirement already satisfied: safetensors>=0.4.1 in c:\\users\\kumar\\anaconda3\\envs\\ann_project\\lib\\site-packages (from transformers<5.0.0,>=4.38.0->sentence-transformers) (0.4.5)\n",
      "Requirement already satisfied: tokenizers<0.21,>=0.20 in c:\\users\\kumar\\anaconda3\\envs\\ann_project\\lib\\site-packages (from transformers<5.0.0,>=4.38.0->sentence-transformers) (0.20.0)\n",
      "Requirement already satisfied: joblib>=1.2.0 in c:\\users\\kumar\\anaconda3\\envs\\ann_project\\lib\\site-packages (from scikit-learn->sentence-transformers) (1.4.2)\n",
      "Requirement already satisfied: threadpoolctl>=3.1.0 in c:\\users\\kumar\\anaconda3\\envs\\ann_project\\lib\\site-packages (from scikit-learn->sentence-transformers) (3.5.0)\n",
      "Requirement already satisfied: MarkupSafe>=2.0 in c:\\users\\kumar\\anaconda3\\envs\\ann_project\\lib\\site-packages (from jinja2->torch>=1.11.0->sentence-transformers) (2.1.5)\n",
      "Requirement already satisfied: charset-normalizer<4,>=2 in c:\\users\\kumar\\anaconda3\\envs\\ann_project\\lib\\site-packages (from requests->huggingface-hub>=0.19.3->sentence-transformers) (3.3.2)\n",
      "Requirement already satisfied: idna<4,>=2.5 in c:\\users\\kumar\\anaconda3\\envs\\ann_project\\lib\\site-packages (from requests->huggingface-hub>=0.19.3->sentence-transformers) (3.10)\n",
      "Requirement already satisfied: urllib3<3,>=1.21.1 in c:\\users\\kumar\\anaconda3\\envs\\ann_project\\lib\\site-packages (from requests->huggingface-hub>=0.19.3->sentence-transformers) (2.2.3)\n",
      "Requirement already satisfied: certifi>=2017.4.17 in c:\\users\\kumar\\anaconda3\\envs\\ann_project\\lib\\site-packages (from requests->huggingface-hub>=0.19.3->sentence-transformers) (2024.8.30)\n",
      "Requirement already satisfied: mpmath<1.4,>=1.1.0 in c:\\users\\kumar\\anaconda3\\envs\\ann_project\\lib\\site-packages (from sympy->torch>=1.11.0->sentence-transformers) (1.3.0)\n"
     ]
    }
   ],
   "source": [
    "!pip install sentence-transformers"
   ]
  },
  {
   "cell_type": "code",
   "execution_count": 17,
   "metadata": {},
   "outputs": [
    {
     "data": {
      "text/plain": [
       "<langchain_chroma.vectorstores.Chroma at 0x2cb883eb860>"
      ]
     },
     "execution_count": 17,
     "metadata": {},
     "output_type": "execute_result"
    }
   ],
   "source": [
    "from langchain_chroma import Chroma\n",
    "vectorstore = Chroma.from_documents(documents= documents,embedding=embedding)\n",
    "vectorstore"
   ]
  },
  {
   "cell_type": "code",
   "execution_count": 18,
   "metadata": {},
   "outputs": [
    {
     "data": {
      "text/plain": [
       "[Document(metadata={'source': 'mammal-pets-doc'}, page_content='Cats are independent pets that often enjoy their own space'),\n",
       " Document(metadata={'source': 'mammal-pets-doc'}, page_content='Dogs are great companions, know for their loyality and friendliness.'),\n",
       " Document(metadata={'source': 'mammal-pets-doc'}, page_content='Rabbits are social animals that need plenty of space to hop around.'),\n",
       " Document(metadata={'source': 'bird-pets-doc'}, page_content='Parrots are intelligent birds capable of mimicking human speech.')]"
      ]
     },
     "execution_count": 18,
     "metadata": {},
     "output_type": "execute_result"
    }
   ],
   "source": [
    "vectorstore.similarity_search(\"cat\")"
   ]
  },
  {
   "cell_type": "code",
   "execution_count": 19,
   "metadata": {},
   "outputs": [
    {
     "data": {
      "text/plain": [
       "[Document(metadata={'source': 'mammal-pets-doc'}, page_content='Cats are independent pets that often enjoy their own space'),\n",
       " Document(metadata={'source': 'mammal-pets-doc'}, page_content='Dogs are great companions, know for their loyality and friendliness.'),\n",
       " Document(metadata={'source': 'mammal-pets-doc'}, page_content='Rabbits are social animals that need plenty of space to hop around.'),\n",
       " Document(metadata={'source': 'bird-pets-doc'}, page_content='Parrots are intelligent birds capable of mimicking human speech.')]"
      ]
     },
     "execution_count": 19,
     "metadata": {},
     "output_type": "execute_result"
    }
   ],
   "source": [
    "#Async Query\n",
    "await vectorstore.asimilarity_search(\"cat\")"
   ]
  },
  {
   "cell_type": "code",
   "execution_count": 20,
   "metadata": {},
   "outputs": [
    {
     "data": {
      "text/plain": [
       "[(Document(metadata={'source': 'mammal-pets-doc'}, page_content='Cats are independent pets that often enjoy their own space'),\n",
       "  0.9436445236206055),\n",
       " (Document(metadata={'source': 'mammal-pets-doc'}, page_content='Dogs are great companions, know for their loyality and friendliness.'),\n",
       "  1.5532042980194092),\n",
       " (Document(metadata={'source': 'mammal-pets-doc'}, page_content='Rabbits are social animals that need plenty of space to hop around.'),\n",
       "  1.5956902503967285),\n",
       " (Document(metadata={'source': 'bird-pets-doc'}, page_content='Parrots are intelligent birds capable of mimicking human speech.'),\n",
       "  1.6657923460006714)]"
      ]
     },
     "execution_count": 20,
     "metadata": {},
     "output_type": "execute_result"
    }
   ],
   "source": [
    "vectorstore.similarity_search_with_score(\"cat\")"
   ]
  },
  {
   "cell_type": "markdown",
   "metadata": {},
   "source": [
    "### Retrievers\n",
    "Langcahin vectorStore object do not subclass Runnable, and so cannot immediately be integrated two into Langchain Expression Langchain chains.\n",
    "\n",
    "Langchain Retrievers are Runnables, so they implement a standard set of method(eg. synchronous and asynchronous invoke and batch operations) and are designed to be incorported in LCEL chain. \n",
    "\n",
    "We can create a simple version of this ourselves, without subclassing Retriever. If we choose what method we wish to use to retrieve documents, we can create a runnable easily. Below we will build one around the similarity_search method:"
   ]
  },
  {
   "cell_type": "code",
   "execution_count": 21,
   "metadata": {},
   "outputs": [
    {
     "data": {
      "text/plain": [
       "[[Document(metadata={'source': 'mammal-pets-doc'}, page_content='Cats are independent pets that often enjoy their own space')],\n",
       " [Document(metadata={'source': 'mammal-pets-doc'}, page_content='Dogs are great companions, know for their loyality and friendliness.')]]"
      ]
     },
     "execution_count": 21,
     "metadata": {},
     "output_type": "execute_result"
    }
   ],
   "source": [
    "from typing import List\n",
    "\n",
    "from langchain_core.runnables import RunnableLambda\n",
    "\n",
    "retriever = RunnableLambda(vectorstore.similarity_search).bind(k=1)\n",
    "retriever.batch([\"cat\",\"dog\"])"
   ]
  },
  {
   "cell_type": "markdown",
   "metadata": {},
   "source": [
    "VectorStores implements an as_retriever method taht will generate a Retriever, specifically a VectorStoreRetriever. Those retrievers include specific search_type and search_kwargs attributes that identify what methods of the underling vector store to call , how to parameterize them. For instance, we can replicate the above with the following:"
   ]
  },
  {
   "cell_type": "code",
   "execution_count": 23,
   "metadata": {},
   "outputs": [],
   "source": [
    "retriever =vectorstore.as_retriever(\n",
    "    search_type = \"similarity\",\n",
    "    search_kwargs = {\"k\":1}\n",
    ")"
   ]
  },
  {
   "cell_type": "code",
   "execution_count": 25,
   "metadata": {},
   "outputs": [
    {
     "data": {
      "text/plain": [
       "[[Document(metadata={'source': 'mammal-pets-doc'}, page_content='Cats are independent pets that often enjoy their own space')],\n",
       " [Document(metadata={'source': 'mammal-pets-doc'}, page_content='Dogs are great companions, know for their loyality and friendliness.')]]"
      ]
     },
     "execution_count": 25,
     "metadata": {},
     "output_type": "execute_result"
    }
   ],
   "source": [
    "retriever.batch([\"cat\",\"dog\"])"
   ]
  },
  {
   "cell_type": "code",
   "execution_count": 26,
   "metadata": {},
   "outputs": [],
   "source": [
    "from langchain_core.prompts import ChatPromptTemplate\n",
    "from langchain_core.runnables import RunnablePassthrough\n",
    "\n",
    "message = \"\"\"\n",
    "Answer this question using the provided context only.\n",
    "{question}\n",
    "\n",
    "Context:\n",
    "{context}\n",
    "\"\"\""
   ]
  },
  {
   "cell_type": "code",
   "execution_count": 28,
   "metadata": {},
   "outputs": [
    {
     "data": {
      "text/plain": [
       "'According to the context, dogs are \"great companions, known for their loyalty and friendliness.\"'"
      ]
     },
     "execution_count": 28,
     "metadata": {},
     "output_type": "execute_result"
    }
   ],
   "source": [
    "prompt = ChatPromptTemplate.from_messages([(\"human\",message)])\n",
    "\n",
    "rag_chain = {\"context\":retriever, \"question\":RunnablePassthrough()} | prompt | llm\n",
    "\n",
    "response = rag_chain.invoke(\"tell me about dogs\")\n",
    "response.content"
   ]
  },
  {
   "cell_type": "code",
   "execution_count": null,
   "metadata": {},
   "outputs": [],
   "source": []
  },
  {
   "cell_type": "code",
   "execution_count": null,
   "metadata": {},
   "outputs": [],
   "source": []
  },
  {
   "cell_type": "code",
   "execution_count": null,
   "metadata": {},
   "outputs": [],
   "source": []
  },
  {
   "cell_type": "code",
   "execution_count": null,
   "metadata": {},
   "outputs": [],
   "source": []
  }
 ],
 "metadata": {
  "kernelspec": {
   "display_name": "ann_project",
   "language": "python",
   "name": "python3"
  },
  "language_info": {
   "codemirror_mode": {
    "name": "ipython",
    "version": 3
   },
   "file_extension": ".py",
   "mimetype": "text/x-python",
   "name": "python",
   "nbconvert_exporter": "python",
   "pygments_lexer": "ipython3",
   "version": "3.12.0"
  }
 },
 "nbformat": 4,
 "nbformat_minor": 2
}
